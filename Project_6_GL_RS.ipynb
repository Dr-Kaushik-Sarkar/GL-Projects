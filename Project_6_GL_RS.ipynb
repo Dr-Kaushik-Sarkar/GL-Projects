{
 "cells": [
  {
   "cell_type": "markdown",
   "metadata": {},
   "source": [
    "# Recommender System for Smartphone Business\n",
    "**PROJECT OBJECTIVE:** To build a recommendation system using popularity based and collaborative filtering methods to recommend mobile phones to a user which are most popular and personalised respectively."
   ]
  },
  {
   "cell_type": "markdown",
   "metadata": {},
   "source": [
    "## 1. Import the necessary libraries and read the provided CSVs as a data frame and perform the below steps. "
   ]
  },
  {
   "cell_type": "markdown",
   "metadata": {},
   "source": [
    "**Set Environment and Import Libraries**"
   ]
  },
  {
   "cell_type": "code",
   "execution_count": 1,
   "metadata": {},
   "outputs": [],
   "source": [
    "# Setting the warnings\n",
    "import sys\n",
    "import warnings                                 # `dnd` mode\n",
    "warnings.filterwarnings('ignore')"
   ]
  },
  {
   "cell_type": "code",
   "execution_count": 2,
   "metadata": {},
   "outputs": [],
   "source": [
    "from IPython.core.interactiveshell import InteractiveShell\n",
    "InteractiveShell.ast_node_interactivity = \"all\" # Display all interactive output in jupyter"
   ]
  },
  {
   "cell_type": "code",
   "execution_count": 3,
   "metadata": {},
   "outputs": [
    {
     "name": "stderr",
     "output_type": "stream",
     "text": [
      "Since the GPL-licensed package `unidecode` is not installed, using Python's `unicodedata` package which yields worse results.\n"
     ]
    }
   ],
   "source": [
    "# Importing necessary libraries\n",
    "\n",
    "from simple_colors import *                     # print text formatting \n",
    "from pprint import pprint                       # import petty print\n",
    "\n",
    "import numpy as np                              # Import Numpy library for vectors, matrix, algebra\n",
    "import pandas as pd                             # Import Pandas library for dataframe preparation and manipulation\n",
    "import pandas_profiling\n",
    "import glob                                     # finds pathnames according to the rules used by the Unix shell\n",
    "\n",
    "from cleantext import clean                     # Create normalized text expression\n",
    "import missingno as msno                        # Visualize the distribution of missing values\n",
    "\n",
    "import matplotlib.pyplot as plt                 # Import Pyplot from matplotlib\n",
    "import seaborn as sns                           # Import Seaborn library for data visualization\n",
    "sns.set(color_codes = True)                     # data visualization\n",
    "from sklearn.neighbors import LocalOutlierFactor # To detect outliers using Local Outlier Factor\n",
    "\n",
    "\n",
    "from sklearn.model_selection import train_test_split as tts # scikit learn test train split\n",
    "from scipy.sparse import csr_matrix\n",
    "from scipy import stats\n",
    "\n",
    "from surprise import Dataset, Reader            # Reader and dataset object import from surprise package\n",
    "from surprise.model_selection import train_test_split # surprise train-test split\n",
    "from surprise import SVD, KNNWithMeans                # surprise objects for SVD and KNNwithMeans CF\n",
    "from surprise import accuracy\n",
    "from surprise.model_selection import cross_validate, GridSearchCV"
   ]
  },
  {
   "cell_type": "code",
   "execution_count": 4,
   "metadata": {},
   "outputs": [],
   "source": [
    "%matplotlib inline"
   ]
  },
  {
   "cell_type": "code",
   "execution_count": 5,
   "metadata": {},
   "outputs": [],
   "source": [
    "pd.options.display.max_colwidth = 50     # increase column width to display large text\n",
    "pd.set_option(\"display.max_rows\", None)   # set display of all rows\n",
    "pd.options.display.float_format = '{:.2f}'.format"
   ]
  },
  {
   "cell_type": "markdown",
   "metadata": {},
   "source": [
    "**Merge the provided CSVs into one data-frame**"
   ]
  },
  {
   "cell_type": "code",
   "execution_count": 6,
   "metadata": {},
   "outputs": [],
   "source": [
    "path = r'/Users/kaushik/Desktop/data_RS_GL' # source folder where data is stored\n",
    "all_files = glob.glob(path + \"/*.csv\")      # return a list of pathnames for .csv files\n",
    "file_list = []                              # create an empty list type container for the data\n",
    "for filename in all_files:\n",
    "    data = pd.read_csv(filename, encoding=\"Latin-1\")  # load csv files with encoding having 8-bit character set for western European languages\n",
    "    file_list.append(data)                            # the for loop will load the data in the container\n",
    "\n",
    "df = pd.concat(file_list, axis=0, ignore_index=True)  # merge all dataframes"
   ]
  },
  {
   "cell_type": "markdown",
   "metadata": {},
   "source": [
    "**Check a few observations and shape of the data-frame**"
   ]
  },
  {
   "cell_type": "code",
   "execution_count": 7,
   "metadata": {},
   "outputs": [
    {
     "data": {
      "text/html": [
       "<div>\n",
       "<style scoped>\n",
       "    .dataframe tbody tr th:only-of-type {\n",
       "        vertical-align: middle;\n",
       "    }\n",
       "\n",
       "    .dataframe tbody tr th {\n",
       "        vertical-align: top;\n",
       "    }\n",
       "\n",
       "    .dataframe thead th {\n",
       "        text-align: right;\n",
       "    }\n",
       "</style>\n",
       "<table border=\"1\" class=\"dataframe\">\n",
       "  <thead>\n",
       "    <tr style=\"text-align: right;\">\n",
       "      <th></th>\n",
       "      <th>phone_url</th>\n",
       "      <th>date</th>\n",
       "      <th>lang</th>\n",
       "      <th>country</th>\n",
       "      <th>source</th>\n",
       "      <th>domain</th>\n",
       "      <th>score</th>\n",
       "      <th>score_max</th>\n",
       "      <th>extract</th>\n",
       "      <th>author</th>\n",
       "      <th>product</th>\n",
       "    </tr>\n",
       "  </thead>\n",
       "  <tbody>\n",
       "    <tr>\n",
       "      <th>0</th>\n",
       "      <td>/cellphones/samsung-galaxy-s8/</td>\n",
       "      <td>5/2/2017</td>\n",
       "      <td>en</td>\n",
       "      <td>us</td>\n",
       "      <td>Verizon Wireless</td>\n",
       "      <td>verizonwireless.com</td>\n",
       "      <td>10.00</td>\n",
       "      <td>10.00</td>\n",
       "      <td>As a diehard Samsung fan who has had every Sam...</td>\n",
       "      <td>CarolAnn35</td>\n",
       "      <td>Samsung Galaxy S8</td>\n",
       "    </tr>\n",
       "    <tr>\n",
       "      <th>1</th>\n",
       "      <td>/cellphones/samsung-galaxy-s8/</td>\n",
       "      <td>4/28/2017</td>\n",
       "      <td>en</td>\n",
       "      <td>us</td>\n",
       "      <td>Phone Arena</td>\n",
       "      <td>phonearena.com</td>\n",
       "      <td>10.00</td>\n",
       "      <td>10.00</td>\n",
       "      <td>Love the phone. the phone is sleek and smooth ...</td>\n",
       "      <td>james0923</td>\n",
       "      <td>Samsung Galaxy S8</td>\n",
       "    </tr>\n",
       "    <tr>\n",
       "      <th>2</th>\n",
       "      <td>/cellphones/samsung-galaxy-s8/</td>\n",
       "      <td>5/4/2017</td>\n",
       "      <td>en</td>\n",
       "      <td>us</td>\n",
       "      <td>Amazon</td>\n",
       "      <td>amazon.com</td>\n",
       "      <td>6.00</td>\n",
       "      <td>10.00</td>\n",
       "      <td>Adequate feel. Nice heft. Processor's still sl...</td>\n",
       "      <td>R. Craig</td>\n",
       "      <td>Samsung Galaxy S8 (64GB) G950U 5.8\" 4G LTE Unl...</td>\n",
       "    </tr>\n",
       "    <tr>\n",
       "      <th>3</th>\n",
       "      <td>/cellphones/samsung-galaxy-s8/</td>\n",
       "      <td>5/2/2017</td>\n",
       "      <td>en</td>\n",
       "      <td>us</td>\n",
       "      <td>Samsung</td>\n",
       "      <td>samsung.com</td>\n",
       "      <td>9.20</td>\n",
       "      <td>10.00</td>\n",
       "      <td>Never disappointed. One of the reasons I've be...</td>\n",
       "      <td>Buster2020</td>\n",
       "      <td>Samsung Galaxy S8 64GB (AT&amp;T)</td>\n",
       "    </tr>\n",
       "    <tr>\n",
       "      <th>4</th>\n",
       "      <td>/cellphones/samsung-galaxy-s8/</td>\n",
       "      <td>5/11/2017</td>\n",
       "      <td>en</td>\n",
       "      <td>us</td>\n",
       "      <td>Verizon Wireless</td>\n",
       "      <td>verizonwireless.com</td>\n",
       "      <td>4.00</td>\n",
       "      <td>10.00</td>\n",
       "      <td>I've now found that i'm in a group of people t...</td>\n",
       "      <td>S Ate Mine</td>\n",
       "      <td>Samsung Galaxy S8</td>\n",
       "    </tr>\n",
       "  </tbody>\n",
       "</table>\n",
       "</div>"
      ],
      "text/plain": [
       "                        phone_url       date lang country            source  \\\n",
       "0  /cellphones/samsung-galaxy-s8/   5/2/2017   en      us  Verizon Wireless   \n",
       "1  /cellphones/samsung-galaxy-s8/  4/28/2017   en      us       Phone Arena   \n",
       "2  /cellphones/samsung-galaxy-s8/   5/4/2017   en      us            Amazon   \n",
       "3  /cellphones/samsung-galaxy-s8/   5/2/2017   en      us           Samsung   \n",
       "4  /cellphones/samsung-galaxy-s8/  5/11/2017   en      us  Verizon Wireless   \n",
       "\n",
       "                domain  score  score_max  \\\n",
       "0  verizonwireless.com  10.00      10.00   \n",
       "1       phonearena.com  10.00      10.00   \n",
       "2           amazon.com   6.00      10.00   \n",
       "3          samsung.com   9.20      10.00   \n",
       "4  verizonwireless.com   4.00      10.00   \n",
       "\n",
       "                                             extract       author  \\\n",
       "0  As a diehard Samsung fan who has had every Sam...   CarolAnn35   \n",
       "1  Love the phone. the phone is sleek and smooth ...    james0923   \n",
       "2  Adequate feel. Nice heft. Processor's still sl...     R. Craig   \n",
       "3  Never disappointed. One of the reasons I've be...  Buster2020    \n",
       "4  I've now found that i'm in a group of people t...   S Ate Mine   \n",
       "\n",
       "                                             product  \n",
       "0                                  Samsung Galaxy S8  \n",
       "1                                  Samsung Galaxy S8  \n",
       "2  Samsung Galaxy S8 (64GB) G950U 5.8\" 4G LTE Unl...  \n",
       "3                      Samsung Galaxy S8 64GB (AT&T)  \n",
       "4                                  Samsung Galaxy S8  "
      ]
     },
     "execution_count": 7,
     "metadata": {},
     "output_type": "execute_result"
    }
   ],
   "source": [
    "df.head(5) # check first 5 observations in the dataframe"
   ]
  },
  {
   "cell_type": "code",
   "execution_count": 8,
   "metadata": {},
   "outputs": [
    {
     "data": {
      "text/plain": [
       "(1415133, 11)"
      ]
     },
     "execution_count": 8,
     "metadata": {},
     "output_type": "execute_result"
    }
   ],
   "source": [
    "df.shape # check the shape of the data"
   ]
  },
  {
   "cell_type": "code",
   "execution_count": 9,
   "metadata": {},
   "outputs": [
    {
     "data": {
      "text/html": [
       "<div>\n",
       "<style scoped>\n",
       "    .dataframe tbody tr th:only-of-type {\n",
       "        vertical-align: middle;\n",
       "    }\n",
       "\n",
       "    .dataframe tbody tr th {\n",
       "        vertical-align: top;\n",
       "    }\n",
       "\n",
       "    .dataframe thead th {\n",
       "        text-align: right;\n",
       "    }\n",
       "</style>\n",
       "<table border=\"1\" class=\"dataframe\">\n",
       "  <thead>\n",
       "    <tr style=\"text-align: right;\">\n",
       "      <th></th>\n",
       "      <th>score</th>\n",
       "      <th>score_max</th>\n",
       "    </tr>\n",
       "  </thead>\n",
       "  <tbody>\n",
       "    <tr>\n",
       "      <th>count</th>\n",
       "      <td>1351644.00</td>\n",
       "      <td>1351644.00</td>\n",
       "    </tr>\n",
       "    <tr>\n",
       "      <th>mean</th>\n",
       "      <td>8.01</td>\n",
       "      <td>10.00</td>\n",
       "    </tr>\n",
       "    <tr>\n",
       "      <th>std</th>\n",
       "      <td>2.62</td>\n",
       "      <td>0.00</td>\n",
       "    </tr>\n",
       "    <tr>\n",
       "      <th>min</th>\n",
       "      <td>0.20</td>\n",
       "      <td>10.00</td>\n",
       "    </tr>\n",
       "    <tr>\n",
       "      <th>25%</th>\n",
       "      <td>7.20</td>\n",
       "      <td>10.00</td>\n",
       "    </tr>\n",
       "    <tr>\n",
       "      <th>50%</th>\n",
       "      <td>9.20</td>\n",
       "      <td>10.00</td>\n",
       "    </tr>\n",
       "    <tr>\n",
       "      <th>75%</th>\n",
       "      <td>10.00</td>\n",
       "      <td>10.00</td>\n",
       "    </tr>\n",
       "    <tr>\n",
       "      <th>max</th>\n",
       "      <td>10.00</td>\n",
       "      <td>10.00</td>\n",
       "    </tr>\n",
       "  </tbody>\n",
       "</table>\n",
       "</div>"
      ],
      "text/plain": [
       "           score  score_max\n",
       "count 1351644.00 1351644.00\n",
       "mean        8.01      10.00\n",
       "std         2.62       0.00\n",
       "min         0.20      10.00\n",
       "25%         7.20      10.00\n",
       "50%         9.20      10.00\n",
       "75%        10.00      10.00\n",
       "max        10.00      10.00"
      ]
     },
     "execution_count": 9,
     "metadata": {},
     "output_type": "execute_result"
    }
   ],
   "source": [
    "df.describe() # check the distribution of scores"
   ]
  },
  {
   "cell_type": "code",
   "execution_count": 10,
   "metadata": {},
   "outputs": [],
   "source": [
    "profile = pandas_profiling.ProfileReport(df)"
   ]
  },
  {
   "cell_type": "markdown",
   "metadata": {},
   "source": [
    "This can be converted to html using the following, which provides interactive and extensive info on the data:\n",
    "profile.to_file('/Users/kaushik/Desktop/profiler_GL6_metadata.html')"
   ]
  },
  {
   "cell_type": "code",
   "execution_count": 11,
   "metadata": {},
   "outputs": [
    {
     "data": {
      "text/plain": [
       "<AxesSubplot:xlabel='score', ylabel='Density'>"
      ]
     },
     "execution_count": 11,
     "metadata": {},
     "output_type": "execute_result"
    },
    {
     "data": {
      "image/png": "[encoded data removed]",
      "text/plain": [
       "<Figure size 432x288 with 1 Axes>"
      ]
     },
     "metadata": {
      "needs_background": "light"
     },
     "output_type": "display_data"
    }
   ],
   "source": [
    "sns.distplot(df[\"score\"])"
   ]
  },
  {
   "cell_type": "markdown",
   "metadata": {},
   "source": [
    "**Round off scores to the nearest integers**"
   ]
  },
  {
   "cell_type": "code",
   "execution_count": 12,
   "metadata": {},
   "outputs": [],
   "source": [
    "df[['score', 'score_max']] = df[['score', 'score_max']].apply(lambda x: round(x, 0)) # rounding off scores to zero decimal"
   ]
  },
  {
   "cell_type": "code",
   "execution_count": 13,
   "metadata": {},
   "outputs": [
    {
     "data": {
      "text/plain": [
       "<AxesSubplot:xlabel='score', ylabel='Density'>"
      ]
     },
     "execution_count": 13,
     "metadata": {},
     "output_type": "execute_result"
    },
    {
     "data": {
      "image/png": "[encoded data removed]",
      "text/plain": [
       "<Figure size 432x288 with 1 Axes>"
      ]
     },
     "metadata": {
      "needs_background": "light"
     },
     "output_type": "display_data"
    }
   ],
   "source": [
    "sns.distplot(df[\"score\"]) # post-rounding off distribution"
   ]
  },
  {
   "cell_type": "markdown",
   "metadata": {},
   "source": [
    "**Check for missing values. Impute the missing values if there is any**\n",
    "\n",
    "A comprehensive analysis of the missing values are already available alongwith missingno visuals in the pandas profile report. I am again checking them here to show in the notebook the missing values and there relationships."
   ]
  },
  {
   "cell_type": "code",
   "execution_count": 14,
   "metadata": {},
   "outputs": [
    {
     "name": "stdout",
     "output_type": "stream",
     "text": [
      "<class 'pandas.core.frame.DataFrame'>\n",
      "RangeIndex: 1415133 entries, 0 to 1415132\n",
      "Data columns (total 11 columns):\n",
      " #   Column     Non-Null Count    Dtype  \n",
      "---  ------     --------------    -----  \n",
      " 0   phone_url  1415133 non-null  object \n",
      " 1   date       1415133 non-null  object \n",
      " 2   lang       1415133 non-null  object \n",
      " 3   country    1415133 non-null  object \n",
      " 4   source     1415133 non-null  object \n",
      " 5   domain     1415133 non-null  object \n",
      " 6   score      1351644 non-null  float64\n",
      " 7   score_max  1351644 non-null  float64\n",
      " 8   extract    1395772 non-null  object \n",
      " 9   author     1351931 non-null  object \n",
      " 10  product    1415132 non-null  object \n",
      "dtypes: float64(2), object(9)\n",
      "memory usage: 118.8+ MB\n"
     ]
    }
   ],
   "source": [
    "df.info()"
   ]
  },
  {
   "cell_type": "code",
   "execution_count": 15,
   "metadata": {},
   "outputs": [
    {
     "name": "stdout",
     "output_type": "stream",
     "text": [
      "\u001b[1;34mThe number of columns having missing values in the dataframe ––\u001b[0m\n"
     ]
    },
    {
     "data": {
      "text/plain": [
       "5"
      ]
     },
     "execution_count": 15,
     "metadata": {},
     "output_type": "execute_result"
    }
   ],
   "source": [
    "print(blue(\"The number of columns having missing values in the dataframe ––\", ['bold']))\n",
    "len(df.columns[df.isnull().any()])"
   ]
  },
  {
   "cell_type": "code",
   "execution_count": 16,
   "metadata": {},
   "outputs": [
    {
     "name": "stdout",
     "output_type": "stream",
     "text": [
      "\u001b[1;34mThe columns having missing values in the dataframe ––\u001b[0m\n"
     ]
    },
    {
     "data": {
      "text/plain": [
       "Index(['score', 'score_max', 'extract', 'author', 'product'], dtype='object')"
      ]
     },
     "execution_count": 16,
     "metadata": {},
     "output_type": "execute_result"
    }
   ],
   "source": [
    "print(blue(\"The columns having missing values in the dataframe ––\", ['bold']))\n",
    "df.columns[df.isnull().sum() * 100/ len(df) > 0]"
   ]
  },
  {
   "cell_type": "code",
   "execution_count": 17,
   "metadata": {},
   "outputs": [
    {
     "name": "stdout",
     "output_type": "stream",
     "text": [
      "\u001b[1;34mMax percentage of missing values in a column in the dataframe ––\u001b[0m\n"
     ]
    },
    {
     "data": {
      "text/plain": [
       "4"
      ]
     },
     "execution_count": 17,
     "metadata": {},
     "output_type": "execute_result"
    }
   ],
   "source": [
    "print(blue(\"Max percentage of missing values in a column in the dataframe ––\", ['bold']))\n",
    "round((df.isnull().sum() * 100/ len(df)).max())"
   ]
  },
  {
   "cell_type": "code",
   "execution_count": 18,
   "metadata": {},
   "outputs": [
    {
     "name": "stdout",
     "output_type": "stream",
     "text": [
      "\u001b[1;34mColumn-wise values present in the dataframe ––\u001b[0m\n"
     ]
    },
    {
     "data": {
      "image/png": "[encoded data removed]",
      "text/plain": [
       "<Figure size 144x720 with 3 Axes>"
      ]
     },
     "metadata": {
      "needs_background": "light"
     },
     "output_type": "display_data"
    }
   ],
   "source": [
    "missing_df = df.columns[df.isnull().any()].tolist()\n",
    "print(blue(\"Column-wise values present in the dataframe ––\", ['bold']))\n",
    "msno.bar(df[missing_df], color=\"red\", figsize=(2,10));"
   ]
  },
  {
   "cell_type": "code",
   "execution_count": 19,
   "metadata": {},
   "outputs": [
    {
     "name": "stdout",
     "output_type": "stream",
     "text": [
      "\u001b[1;34mMissing value pair heatmap ––\u001b[0m\n"
     ]
    },
    {
     "data": {
      "image/png": "[encoded data removed]",
      "text/plain": [
       "<Figure size 144x144 with 2 Axes>"
      ]
     },
     "metadata": {
      "needs_background": "light"
     },
     "output_type": "display_data"
    }
   ],
   "source": [
    "print(blue(\"Missing value pair heatmap ––\", ['bold']))\n",
    "msno.heatmap(df, figsize=(2,2)); "
   ]
  },
  {
   "cell_type": "markdown",
   "metadata": {},
   "source": [
    "For author and product columns, I will delete those record which have missing values (case deletion). I won't do any treatment of the missing values in extract column. I will impute the missing values of the score column with mode."
   ]
  },
  {
   "cell_type": "code",
   "execution_count": 20,
   "metadata": {},
   "outputs": [],
   "source": [
    "imputed_df = df.dropna(how='any', subset=['product', 'author'])"
   ]
  },
  {
   "cell_type": "code",
   "execution_count": 21,
   "metadata": {},
   "outputs": [],
   "source": [
    "imputed_df[\"score\"] = imputed_df[\"score\"].fillna(imputed_df[\"score\"].mode()[0])"
   ]
  },
  {
   "cell_type": "code",
   "execution_count": 22,
   "metadata": {},
   "outputs": [
    {
     "data": {
      "text/plain": [
       "phone_url        0\n",
       "date             0\n",
       "lang             0\n",
       "country          0\n",
       "source           0\n",
       "domain           0\n",
       "score            0\n",
       "score_max    60893\n",
       "extract      15515\n",
       "author           0\n",
       "product          0\n",
       "dtype: int64"
      ]
     },
     "execution_count": 22,
     "metadata": {},
     "output_type": "execute_result"
    }
   ],
   "source": [
    "imputed_df.isnull().sum()"
   ]
  },
  {
   "cell_type": "markdown",
   "metadata": {},
   "source": [
    "**Check for duplicate values and remove them if there is any**"
   ]
  },
  {
   "cell_type": "markdown",
   "metadata": {},
   "source": [
    "Removal of apparent duplicates"
   ]
  },
  {
   "cell_type": "code",
   "execution_count": 23,
   "metadata": {},
   "outputs": [
    {
     "name": "stdout",
     "output_type": "stream",
     "text": [
      "\u001b[1;34mThere are\u001b[0m 5049 \u001b[1;34mduplicate rows or records in the data.\u001b[0m\n"
     ]
    }
   ],
   "source": [
    "# Checking for a duplicate record\n",
    "duplicate = imputed_df[imputed_df.duplicated()] # Selecting duplicate rows except first with occurrence based on all columns\n",
    "print(blue(\"There are\", [\"bold\"]), duplicate.shape[0], blue(\"duplicate rows or records in the data.\", [\"bold\"]))"
   ]
  },
  {
   "cell_type": "code",
   "execution_count": 24,
   "metadata": {},
   "outputs": [],
   "source": [
    "row_to_drop = list(imputed_df[imputed_df.duplicated()].index.values)"
   ]
  },
  {
   "cell_type": "code",
   "execution_count": 25,
   "metadata": {},
   "outputs": [],
   "source": [
    "analytical_df = imputed_df.drop(row_to_drop) # drop duplicate records by keeping only one instance"
   ]
  },
  {
   "cell_type": "markdown",
   "metadata": {},
   "source": [
    "There can be additional records where author and products are same, while the other attributes may be different. I will remove those records as well."
   ]
  },
  {
   "cell_type": "code",
   "execution_count": 26,
   "metadata": {},
   "outputs": [
    {
     "name": "stdout",
     "output_type": "stream",
     "text": [
      "\u001b[1;34mThe number of duplicate rows or records in the data.\u001b[0m 159314\n"
     ]
    }
   ],
   "source": [
    "print(blue(\"The number of duplicate rows or records in the data.\", [\"bold\"]), len(analytical_df[analytical_df[['product', 'author']].duplicated()]))"
   ]
  },
  {
   "cell_type": "code",
   "execution_count": 27,
   "metadata": {},
   "outputs": [],
   "source": [
    "row_to_drop_2 = list(analytical_df[analytical_df[['product', 'author']].duplicated()].index.values)"
   ]
  },
  {
   "cell_type": "code",
   "execution_count": 28,
   "metadata": {},
   "outputs": [],
   "source": [
    "analytical_df = analytical_df.drop(row_to_drop_2) # drop duplicate records by keeping only one instance"
   ]
  },
  {
   "cell_type": "code",
   "execution_count": 29,
   "metadata": {},
   "outputs": [
    {
     "data": {
      "text/plain": [
       "(1187568, 11)"
      ]
     },
     "execution_count": 29,
     "metadata": {},
     "output_type": "execute_result"
    }
   ],
   "source": [
    "analytical_df.shape"
   ]
  },
  {
   "cell_type": "markdown",
   "metadata": {},
   "source": [
    "**Keep only 1000000 data samples**\n",
    "(Use random state=612)"
   ]
  },
  {
   "cell_type": "code",
   "execution_count": 30,
   "metadata": {},
   "outputs": [],
   "source": [
    "sample_df = analytical_df.sample(n = 1000000, random_state=612) "
   ]
  },
  {
   "cell_type": "markdown",
   "metadata": {},
   "source": [
    "**Drop irrelevant features. Keep features like Author, Product, and Score**"
   ]
  },
  {
   "cell_type": "code",
   "execution_count": 31,
   "metadata": {},
   "outputs": [],
   "source": [
    "features_to_keep = [\"author\", \"product\", \"score\"]\n",
    "sample_df = sample_df[features_to_keep]"
   ]
  },
  {
   "cell_type": "markdown",
   "metadata": {},
   "source": [
    "## 2. Answer the following questions"
   ]
  },
  {
   "cell_type": "markdown",
   "metadata": {},
   "source": [
    "**Identify the most rated product**"
   ]
  },
  {
   "cell_type": "code",
   "execution_count": 32,
   "metadata": {},
   "outputs": [
    {
     "name": "stdout",
     "output_type": "stream",
     "text": [
      "\u001b[1;34mTop 5 most frequently rated products\u001b[0m\n"
     ]
    },
    {
     "data": {
      "text/plain": [
       "product\n",
       "OnePlus 3 (Graphite, 64 GB)          1817\n",
       "Lenovo Vibe K4 Note (White,16GB)     1720\n",
       "Nokia N95                            1521\n",
       "Lenovo Vibe K4 Note (Black, 16GB)    1517\n",
       "OnePlus 3 (Soft Gold, 64 GB)         1482\n",
       "dtype: int64"
      ]
     },
     "execution_count": 32,
     "metadata": {},
     "output_type": "execute_result"
    }
   ],
   "source": [
    "print(blue(\"Top 5 most frequently rated products\", [\"bold\"]))\n",
    "sample_df.groupby(\"product\").size().sort_values(ascending=False).head(5)"
   ]
  },
  {
   "cell_type": "code",
   "execution_count": 33,
   "metadata": {},
   "outputs": [
    {
     "name": "stdout",
     "output_type": "stream",
     "text": [
      "\u001b[1;34mTop 10 products having highest average ratings\u001b[0m\n"
     ]
    },
    {
     "data": {
      "text/html": [
       "<div>\n",
       "<style scoped>\n",
       "    .dataframe tbody tr th:only-of-type {\n",
       "        vertical-align: middle;\n",
       "    }\n",
       "\n",
       "    .dataframe tbody tr th {\n",
       "        vertical-align: top;\n",
       "    }\n",
       "\n",
       "    .dataframe thead th {\n",
       "        text-align: right;\n",
       "    }\n",
       "</style>\n",
       "<table border=\"1\" class=\"dataframe\">\n",
       "  <thead>\n",
       "    <tr style=\"text-align: right;\">\n",
       "      <th></th>\n",
       "      <th>score</th>\n",
       "    </tr>\n",
       "    <tr>\n",
       "      <th>product</th>\n",
       "      <th></th>\n",
       "    </tr>\n",
       "  </thead>\n",
       "  <tbody>\n",
       "    <tr>\n",
       "      <th>éå±¬ + ç®é© = è³ªææ»¿åãWave 723 è©³æ¸¬åå¿å¾</th>\n",
       "      <td>10.00</td>\n",
       "    </tr>\n",
       "    <tr>\n",
       "      <th>Samsung Galaxy S7 edge 32GB smartphone - sort</th>\n",
       "      <td>10.00</td>\n",
       "    </tr>\n",
       "    <tr>\n",
       "      <th>Samsung Galaxy S8 (64GB, Midnight Black)</th>\n",
       "      <td>10.00</td>\n",
       "    </tr>\n",
       "    <tr>\n",
       "      <th>Samsung Galaxy S8 (Ð¶ÐµÐ»ÑÑÐ¹ ÑÐ¾Ð¿Ð°Ð·)</th>\n",
       "      <td>10.00</td>\n",
       "    </tr>\n",
       "    <tr>\n",
       "      <th>Samsung Galaxy S8 (Ð¼Ð¸ÑÑÐ¸ÑÐµÑÐºÐ¸Ð¹ Ð°Ð¼ÐµÑÐ¸ÑÑ)</th>\n",
       "      <td>10.00</td>\n",
       "    </tr>\n",
       "    <tr>\n",
       "      <th>Samsung Galaxy S8 (ÑÐµÑÐ½ÑÐ¹ Ð±ÑÐ¸Ð»Ð»Ð¸Ð°Ð½Ñ)</th>\n",
       "      <td>10.00</td>\n",
       "    </tr>\n",
       "    <tr>\n",
       "      <th>Samsung Galaxy S8 64GB Sort</th>\n",
       "      <td>10.00</td>\n",
       "    </tr>\n",
       "    <tr>\n",
       "      <th>Samsung Galaxy S8 64GB Svart</th>\n",
       "      <td>10.00</td>\n",
       "    </tr>\n",
       "    <tr>\n",
       "      <th>Samsung Galaxy S8 64GB SÃ¸lv</th>\n",
       "      <td>10.00</td>\n",
       "    </tr>\n",
       "    <tr>\n",
       "      <th>Samsung Galaxy S8 Plus - Smartphone libre Android (6.2\", 4 GB RAM, 4G, 12 MP), color plata. [VersiÃ³n alemana: no incluye Samsung Pay ni acceso a promociones Samsung members]</th>\n",
       "      <td>10.00</td>\n",
       "    </tr>\n",
       "  </tbody>\n",
       "</table>\n",
       "</div>"
      ],
      "text/plain": [
       "                                                    score\n",
       "product                                                  \n",
       "éå±¬ + ç®é© = è³ªææ»¿åãWave 723 è©³æ¸...  10.00\n",
       "Samsung Galaxy S7 edge 32GB smartphone - sort       10.00\n",
       "Samsung Galaxy S8 (64GB, Midnight Black)            10.00\n",
       "Samsung Galaxy S8 (Ð¶ÐµÐ»ÑÑÐ¹ ÑÐ¾Ð¿Ð°Ð·)         10.00\n",
       "Samsung Galaxy S8 (Ð¼Ð¸ÑÑÐ¸ÑÐµÑÐºÐ¸Ð¹ Ð°Ð¼Ð...  10.00\n",
       "Samsung Galaxy S8 (ÑÐµÑÐ½ÑÐ¹ Ð±ÑÐ¸Ð»Ð»Ð¸Ð°Ð...  10.00\n",
       "Samsung Galaxy S8 64GB Sort                         10.00\n",
       "Samsung Galaxy S8 64GB Svart                        10.00\n",
       "Samsung Galaxy S8 64GB SÃ¸lv                        10.00\n",
       "Samsung Galaxy S8 Plus - Smartphone libre Andro...  10.00"
      ]
     },
     "execution_count": 33,
     "metadata": {},
     "output_type": "execute_result"
    }
   ],
   "source": [
    "print(blue(\"Top 10 products having highest average ratings\", [\"bold\"]))\n",
    "pd.DataFrame(sample_df.groupby('product')['score'].mean().sort_values(ascending=False).head(10) )"
   ]
  },
  {
   "cell_type": "code",
   "execution_count": 34,
   "metadata": {},
   "outputs": [],
   "source": [
    "product_data = pd.DataFrame(sample_df.groupby('product')['score'].mean())"
   ]
  },
  {
   "cell_type": "code",
   "execution_count": 35,
   "metadata": {},
   "outputs": [],
   "source": [
    "# dataframe of products that had user rating as 10\n",
    "top_rated_products = product_data[product_data[\"score\"] == 10]"
   ]
  },
  {
   "cell_type": "markdown",
   "metadata": {},
   "source": [
    "**Identify the users with most number of reviews**"
   ]
  },
  {
   "cell_type": "code",
   "execution_count": 36,
   "metadata": {},
   "outputs": [
    {
     "name": "stdout",
     "output_type": "stream",
     "text": [
      "\u001b[1;34mTop 5 users with most number of reviews\u001b[0m\n"
     ]
    },
    {
     "data": {
      "text/html": [
       "<div>\n",
       "<style scoped>\n",
       "    .dataframe tbody tr th:only-of-type {\n",
       "        vertical-align: middle;\n",
       "    }\n",
       "\n",
       "    .dataframe tbody tr th {\n",
       "        vertical-align: top;\n",
       "    }\n",
       "\n",
       "    .dataframe thead th {\n",
       "        text-align: right;\n",
       "    }\n",
       "</style>\n",
       "<table border=\"1\" class=\"dataframe\">\n",
       "  <thead>\n",
       "    <tr style=\"text-align: right;\">\n",
       "      <th></th>\n",
       "      <th>0</th>\n",
       "    </tr>\n",
       "    <tr>\n",
       "      <th>author</th>\n",
       "      <th></th>\n",
       "    </tr>\n",
       "  </thead>\n",
       "  <tbody>\n",
       "    <tr>\n",
       "      <th>Amazon Customer</th>\n",
       "      <td>6978</td>\n",
       "    </tr>\n",
       "    <tr>\n",
       "      <th>Cliente Amazon</th>\n",
       "      <td>2629</td>\n",
       "    </tr>\n",
       "    <tr>\n",
       "      <th>Anonymous</th>\n",
       "      <td>1040</td>\n",
       "    </tr>\n",
       "    <tr>\n",
       "      <th>Client d'Amazon</th>\n",
       "      <td>995</td>\n",
       "    </tr>\n",
       "    <tr>\n",
       "      <th>Amazon Kunde</th>\n",
       "      <td>869</td>\n",
       "    </tr>\n",
       "    <tr>\n",
       "      <th>David</th>\n",
       "      <td>701</td>\n",
       "    </tr>\n",
       "    <tr>\n",
       "      <th>Alex</th>\n",
       "      <td>640</td>\n",
       "    </tr>\n",
       "    <tr>\n",
       "      <th>Daniel</th>\n",
       "      <td>556</td>\n",
       "    </tr>\n",
       "    <tr>\n",
       "      <th>Chris</th>\n",
       "      <td>518</td>\n",
       "    </tr>\n",
       "    <tr>\n",
       "      <th>Marco</th>\n",
       "      <td>515</td>\n",
       "    </tr>\n",
       "  </tbody>\n",
       "</table>\n",
       "</div>"
      ],
      "text/plain": [
       "                    0\n",
       "author               \n",
       "Amazon Customer  6978\n",
       "Cliente Amazon   2629\n",
       "Anonymous        1040\n",
       "Client d'Amazon   995\n",
       "Amazon Kunde      869\n",
       "David             701\n",
       "Alex              640\n",
       "Daniel            556\n",
       "Chris             518\n",
       "Marco             515"
      ]
     },
     "execution_count": 36,
     "metadata": {},
     "output_type": "execute_result"
    }
   ],
   "source": [
    "print(blue(\"Top 5 users with most number of reviews\", [\"bold\"]))\n",
    "pd.DataFrame(sample_df.groupby(\"author\").size().sort_values(ascending=False).head(10)) "
   ]
  },
  {
   "cell_type": "markdown",
   "metadata": {},
   "source": [
    "**Select the data with products having more than 50 ratings and users who have given more than 50 ratings. Report the shape of the final dataset**"
   ]
  },
  {
   "cell_type": "code",
   "execution_count": 37,
   "metadata": {},
   "outputs": [],
   "source": [
    "prod_count = pd.value_counts(sample_df['product'])\n",
    "auth_count = pd.value_counts(sample_df['author'])"
   ]
  },
  {
   "cell_type": "code",
   "execution_count": 38,
   "metadata": {},
   "outputs": [],
   "source": [
    "rating_subset = sample_df[sample_df[\"product\"].isin(prod_count[prod_count > 50].index)][sample_df[\"author\"].isin(auth_count[auth_count > 50].index)]"
   ]
  },
  {
   "cell_type": "code",
   "execution_count": 39,
   "metadata": {},
   "outputs": [
    {
     "name": "stdout",
     "output_type": "stream",
     "text": [
      "\u001b[1;34mShape of the final dataset\u001b[0m\n"
     ]
    },
    {
     "data": {
      "text/plain": [
       "(37900, 3)"
      ]
     },
     "execution_count": 39,
     "metadata": {},
     "output_type": "execute_result"
    }
   ],
   "source": [
    "print(blue(\"Shape of the final dataset\", [\"bold\"]))\n",
    "rating_subset.shape"
   ]
  },
  {
   "cell_type": "markdown",
   "metadata": {},
   "source": []
  },
  {
   "cell_type": "code",
   "execution_count": 40,
   "metadata": {},
   "outputs": [
    {
     "data": {
      "text/html": [
       "<div>\n",
       "<style scoped>\n",
       "    .dataframe tbody tr th:only-of-type {\n",
       "        vertical-align: middle;\n",
       "    }\n",
       "\n",
       "    .dataframe tbody tr th {\n",
       "        vertical-align: top;\n",
       "    }\n",
       "\n",
       "    .dataframe thead th {\n",
       "        text-align: right;\n",
       "    }\n",
       "</style>\n",
       "<table border=\"1\" class=\"dataframe\">\n",
       "  <thead>\n",
       "    <tr style=\"text-align: right;\">\n",
       "      <th></th>\n",
       "      <th>count</th>\n",
       "      <th>mean</th>\n",
       "      <th>std</th>\n",
       "      <th>min</th>\n",
       "      <th>25%</th>\n",
       "      <th>50%</th>\n",
       "      <th>75%</th>\n",
       "      <th>max</th>\n",
       "    </tr>\n",
       "  </thead>\n",
       "  <tbody>\n",
       "    <tr>\n",
       "      <th>score</th>\n",
       "      <td>37900.00</td>\n",
       "      <td>8.15</td>\n",
       "      <td>2.60</td>\n",
       "      <td>1.00</td>\n",
       "      <td>8.00</td>\n",
       "      <td>10.00</td>\n",
       "      <td>10.00</td>\n",
       "      <td>10.00</td>\n",
       "    </tr>\n",
       "  </tbody>\n",
       "</table>\n",
       "</div>"
      ],
      "text/plain": [
       "         count  mean  std  min  25%   50%   75%   max\n",
       "score 37900.00  8.15 2.60 1.00 8.00 10.00 10.00 10.00"
      ]
     },
     "execution_count": 40,
     "metadata": {},
     "output_type": "execute_result"
    }
   ],
   "source": [
    "rating_subset[[\"score\"]].describe().transpose()"
   ]
  },
  {
   "cell_type": "code",
   "execution_count": 41,
   "metadata": {},
   "outputs": [
    {
     "name": "stdout",
     "output_type": "stream",
     "text": [
      "The minimum rating is: 1\n",
      "The maximum rating is: 10\n"
     ]
    }
   ],
   "source": [
    "print('The minimum rating is: %d' %(rating_subset[\"score\"].min()))\n",
    "print('The maximum rating is: %d' %(rating_subset[\"score\"].max()))"
   ]
  },
  {
   "cell_type": "code",
   "execution_count": 42,
   "metadata": {},
   "outputs": [
    {
     "data": {
      "image/png": "[encoded data removed]",
      "text/plain": [
       "<Figure size 720x360 with 1 Axes>"
      ]
     },
     "metadata": {
      "needs_background": "light"
     },
     "output_type": "display_data"
    }
   ],
   "source": [
    "# Check the distribution of ratings in sampled data\n",
    "g = sns.factorplot(\"score\", data=rating_subset, aspect=2.0,kind='count')\n",
    "g.set_ylabels(\"Total number of ratings\");"
   ]
  },
  {
   "cell_type": "code",
   "execution_count": 43,
   "metadata": {},
   "outputs": [
    {
     "name": "stdout",
     "output_type": "stream",
     "text": [
      "Number of unique Authors in Raw data =  692\n",
      "Number of unique Products in Raw data =  4077\n"
     ]
    }
   ],
   "source": [
    "# Number of unique authors and product in the data\n",
    "print('Number of unique Authors in Raw data = ', rating_subset[\"author\"].nunique())\n",
    "print('Number of unique Products in Raw data = ', rating_subset[\"product\"].nunique())"
   ]
  },
  {
   "cell_type": "code",
   "execution_count": 44,
   "metadata": {},
   "outputs": [],
   "source": [
    "ratings_matrix = rating_subset.pivot(\"author\", \"product\", \"score\").fillna(0)"
   ]
  },
  {
   "cell_type": "code",
   "execution_count": 45,
   "metadata": {},
   "outputs": [
    {
     "name": "stdout",
     "output_type": "stream",
     "text": [
      "Shape of ratings matrix:  (692, 4077)\n",
      "Shape of sparse matrix:  (692, 4077)\n"
     ]
    }
   ],
   "source": [
    "sparse_mat = csr_matrix(ratings_matrix.values) # sparse matrix building\n",
    "print('Shape of ratings matrix: ', ratings_matrix.shape)\n",
    "print('Shape of sparse matrix: ', sparse_mat.shape)"
   ]
  },
  {
   "cell_type": "code",
   "execution_count": 46,
   "metadata": {},
   "outputs": [
    {
     "data": {
      "text/plain": [
       "array([[ 0.,  0.,  0., ...,  0.,  0.,  0.],\n",
       "       [ 0.,  0.,  0., ...,  0.,  0.,  0.],\n",
       "       [ 0.,  0.,  0., ...,  0.,  0.,  0.],\n",
       "       ...,\n",
       "       [ 0.,  0.,  0., ...,  0.,  0.,  0.],\n",
       "       [ 0.,  0.,  0., ...,  0.,  0.,  0.],\n",
       "       [ 0.,  0.,  0., ..., 10.,  0.,  0.]])"
      ]
     },
     "execution_count": 46,
     "metadata": {},
     "output_type": "execute_result"
    }
   ],
   "source": [
    "sparse_mat.toarray()"
   ]
  },
  {
   "cell_type": "code",
   "execution_count": 47,
   "metadata": {},
   "outputs": [
    {
     "name": "stdout",
     "output_type": "stream",
     "text": [
      "The given number of ratings :  37900\n",
      "The possible number of ratings :  2821284\n",
      "The density of ratings: 1.34%\n"
     ]
    }
   ],
   "source": [
    "num_of_ratings = np.count_nonzero(ratings_matrix)\n",
    "print('The given number of ratings : ', num_of_ratings)\n",
    "\n",
    "possible_ratings = ratings_matrix.shape[0] * ratings_matrix.shape[1]\n",
    "print('The possible number of ratings : ', possible_ratings)\n",
    "\n",
    "density = (num_of_ratings/possible_ratings)\n",
    "density *= 100\n",
    "print (\"The density of ratings: {:4.2f}%\".format(density))"
   ]
  },
  {
   "cell_type": "code",
   "execution_count": 48,
   "metadata": {},
   "outputs": [
    {
     "data": {
      "text/html": [
       "<div>\n",
       "<style scoped>\n",
       "    .dataframe tbody tr th:only-of-type {\n",
       "        vertical-align: middle;\n",
       "    }\n",
       "\n",
       "    .dataframe tbody tr th {\n",
       "        vertical-align: top;\n",
       "    }\n",
       "\n",
       "    .dataframe thead th {\n",
       "        text-align: right;\n",
       "    }\n",
       "</style>\n",
       "<table border=\"1\" class=\"dataframe\">\n",
       "  <thead>\n",
       "    <tr style=\"text-align: right;\">\n",
       "      <th></th>\n",
       "      <th>product</th>\n",
       "      <th>score</th>\n",
       "      <th>rating_counts</th>\n",
       "    </tr>\n",
       "  </thead>\n",
       "  <tbody>\n",
       "    <tr>\n",
       "      <th>376</th>\n",
       "      <td>BLU Studio 6.0 HD Smartphone - GSM Unlocked - ...</td>\n",
       "      <td>10.00</td>\n",
       "      <td>2</td>\n",
       "    </tr>\n",
       "    <tr>\n",
       "      <th>1477</th>\n",
       "      <td>Lenovo A850</td>\n",
       "      <td>10.00</td>\n",
       "      <td>2</td>\n",
       "    </tr>\n",
       "    <tr>\n",
       "      <th>323</th>\n",
       "      <td>Asus Zenfone 6 A600CG/A601CG (Red, 16GB)</td>\n",
       "      <td>10.00</td>\n",
       "      <td>1</td>\n",
       "    </tr>\n",
       "    <tr>\n",
       "      <th>2513</th>\n",
       "      <td>SAMSUNG Galaxy S5 - noir - 16 Go - Smartphone</td>\n",
       "      <td>10.00</td>\n",
       "      <td>1</td>\n",
       "    </tr>\n",
       "    <tr>\n",
       "      <th>2515</th>\n",
       "      <td>SAMSUNG Galaxy S6 Edge Plus - gold - 32 Go - 4...</td>\n",
       "      <td>10.00</td>\n",
       "      <td>1</td>\n",
       "    </tr>\n",
       "  </tbody>\n",
       "</table>\n",
       "</div>"
      ],
      "text/plain": [
       "                                                product  score  rating_counts\n",
       "376   BLU Studio 6.0 HD Smartphone - GSM Unlocked - ...  10.00              2\n",
       "1477                                        Lenovo A850  10.00              2\n",
       "323            Asus Zenfone 6 A600CG/A601CG (Red, 16GB)  10.00              1\n",
       "2513      SAMSUNG Galaxy S5 - noir - 16 Go - Smartphone  10.00              1\n",
       "2515  SAMSUNG Galaxy S6 Edge Plus - gold - 32 Go - 4...  10.00              1"
      ]
     },
     "execution_count": 48,
     "metadata": {},
     "output_type": "execute_result"
    }
   ],
   "source": [
    "ratings_mean_count = pd.DataFrame(rating_subset.groupby(\"product\")[\"score\"].mean()) \n",
    "ratings_mean_count['rating_counts'] = pd.DataFrame(rating_subset.groupby(\"product\")[\"score\"].count())  \n",
    "pop_table = ratings_mean_count.reset_index()\n",
    "pop_table.sort_values(by=\"score\", ascending=False).head()"
   ]
  },
  {
   "cell_type": "markdown",
   "metadata": {},
   "source": [
    "**Simple popularity based recommender system**"
   ]
  },
  {
   "cell_type": "code",
   "execution_count": 49,
   "metadata": {},
   "outputs": [],
   "source": [
    "train_data, test_data = tts(rating_subset, test_size = 0.20, random_state=612)"
   ]
  },
  {
   "cell_type": "code",
   "execution_count": 50,
   "metadata": {},
   "outputs": [],
   "source": [
    "train_table = pd.DataFrame(train_data.groupby(\"product\")[\"score\"].mean()) "
   ]
  },
  {
   "cell_type": "code",
   "execution_count": 51,
   "metadata": {},
   "outputs": [],
   "source": [
    "train_table_reset = train_table.reset_index()"
   ]
  },
  {
   "cell_type": "code",
   "execution_count": 52,
   "metadata": {},
   "outputs": [],
   "source": [
    "train_table_popularity = train_table_reset.sort_values(by=\"score\", ascending=False)"
   ]
  },
  {
   "cell_type": "code",
   "execution_count": 53,
   "metadata": {},
   "outputs": [],
   "source": [
    "train_table_popularity[\"Rank\"] = train_table_popularity[\"score\"].rank(ascending=0, method='first')"
   ]
  },
  {
   "cell_type": "code",
   "execution_count": 54,
   "metadata": {},
   "outputs": [
    {
     "data": {
      "text/html": [
       "<div>\n",
       "<style scoped>\n",
       "    .dataframe tbody tr th:only-of-type {\n",
       "        vertical-align: middle;\n",
       "    }\n",
       "\n",
       "    .dataframe tbody tr th {\n",
       "        vertical-align: top;\n",
       "    }\n",
       "\n",
       "    .dataframe thead th {\n",
       "        text-align: right;\n",
       "    }\n",
       "</style>\n",
       "<table border=\"1\" class=\"dataframe\">\n",
       "  <thead>\n",
       "    <tr style=\"text-align: right;\">\n",
       "      <th></th>\n",
       "      <th>product</th>\n",
       "      <th>score</th>\n",
       "      <th>Rank</th>\n",
       "    </tr>\n",
       "  </thead>\n",
       "  <tbody>\n",
       "    <tr>\n",
       "      <th>2725</th>\n",
       "      <td>Samsung Galaxy J5 SM-J500H/DS GSM Factory Unlo...</td>\n",
       "      <td>10.00</td>\n",
       "      <td>1.00</td>\n",
       "    </tr>\n",
       "    <tr>\n",
       "      <th>1548</th>\n",
       "      <td>Microsoft Lumia 435 (Dual SIM, Black)</td>\n",
       "      <td>10.00</td>\n",
       "      <td>2.00</td>\n",
       "    </tr>\n",
       "    <tr>\n",
       "      <th>3225</th>\n",
       "      <td>Samsung Knack U310 Flip Phone for Verizon Wire...</td>\n",
       "      <td>10.00</td>\n",
       "      <td>3.00</td>\n",
       "    </tr>\n",
       "    <tr>\n",
       "      <th>1563</th>\n",
       "      <td>Microsoft Lumia 640 (Black, 8GB)</td>\n",
       "      <td>10.00</td>\n",
       "      <td>4.00</td>\n",
       "    </tr>\n",
       "    <tr>\n",
       "      <th>3230</th>\n",
       "      <td>Samsung N7100 Galaxy Note II (16Gb)</td>\n",
       "      <td>10.00</td>\n",
       "      <td>5.00</td>\n",
       "    </tr>\n",
       "  </tbody>\n",
       "</table>\n",
       "</div>"
      ],
      "text/plain": [
       "                                                product  score  Rank\n",
       "2725  Samsung Galaxy J5 SM-J500H/DS GSM Factory Unlo...  10.00  1.00\n",
       "1548              Microsoft Lumia 435 (Dual SIM, Black)  10.00  2.00\n",
       "3225  Samsung Knack U310 Flip Phone for Verizon Wire...  10.00  3.00\n",
       "1563                   Microsoft Lumia 640 (Black, 8GB)  10.00  4.00\n",
       "3230                Samsung N7100 Galaxy Note II (16Gb)  10.00  5.00"
      ]
     },
     "execution_count": 54,
     "metadata": {},
     "output_type": "execute_result"
    }
   ],
   "source": [
    "#Get the top 5 recommendations \n",
    "popularity_rs = train_table_popularity.head(5) \n",
    "popularity_rs"
   ]
  },
  {
   "cell_type": "code",
   "execution_count": 55,
   "metadata": {},
   "outputs": [],
   "source": [
    "# Use popularity based recommender model to make predictions\n",
    "def pop_recommend(author):     \n",
    "    user_recommendations = popularity_rs \n",
    "          \n",
    "    #Add user_id column for which the recommendations are being generated \n",
    "    user_recommendations[\"author\"] = \"author\" \n",
    "      \n",
    "    #Bring user_id column to the front \n",
    "    cols = user_recommendations.columns.tolist() \n",
    "    cols = cols[-1:] + cols[:-1] \n",
    "    user_recommendations = user_recommendations[cols] \n",
    "          \n",
    "    return user_recommendations "
   ]
  },
  {
   "cell_type": "code",
   "execution_count": 56,
   "metadata": {},
   "outputs": [],
   "source": [
    "test_auth = test_data[\"author\"].tolist()"
   ]
  },
  {
   "cell_type": "code",
   "execution_count": 57,
   "metadata": {},
   "outputs": [
    {
     "name": "stdout",
     "output_type": "stream",
     "text": [
      "Here is the recommendation for the author: \n",
      " ÐÐ»ÐµÐºÑÐ°Ð½Ð´Ñ\n",
      "      author                                            product  score  Rank\n",
      "2725  author  Samsung Galaxy J5 SM-J500H/DS GSM Factory Unlo...  10.00  1.00\n",
      "1548  author              Microsoft Lumia 435 (Dual SIM, Black)  10.00  2.00\n",
      "3225  author  Samsung Knack U310 Flip Phone for Verizon Wire...  10.00  3.00\n",
      "1563  author                   Microsoft Lumia 640 (Black, 8GB)  10.00  4.00\n",
      "3230  author                Samsung N7100 Galaxy Note II (16Gb)  10.00  5.00\n",
      "\n",
      "\n",
      "Here is the recommendation for the author: \n",
      " Daniel\n",
      "      author                                            product  score  Rank\n",
      "2725  author  Samsung Galaxy J5 SM-J500H/DS GSM Factory Unlo...  10.00  1.00\n",
      "1548  author              Microsoft Lumia 435 (Dual SIM, Black)  10.00  2.00\n",
      "3225  author  Samsung Knack U310 Flip Phone for Verizon Wire...  10.00  3.00\n",
      "1563  author                   Microsoft Lumia 640 (Black, 8GB)  10.00  4.00\n",
      "3230  author                Samsung N7100 Galaxy Note II (16Gb)  10.00  5.00\n",
      "\n",
      "\n",
      "Here is the recommendation for the author: \n",
      " Wendy\n",
      "      author                                            product  score  Rank\n",
      "2725  author  Samsung Galaxy J5 SM-J500H/DS GSM Factory Unlo...  10.00  1.00\n",
      "1548  author              Microsoft Lumia 435 (Dual SIM, Black)  10.00  2.00\n",
      "3225  author  Samsung Knack U310 Flip Phone for Verizon Wire...  10.00  3.00\n",
      "1563  author                   Microsoft Lumia 640 (Black, 8GB)  10.00  4.00\n",
      "3230  author                Samsung N7100 Galaxy Note II (16Gb)  10.00  5.00\n",
      "\n",
      "\n"
     ]
    }
   ],
   "source": [
    "find_recom = test_auth[0:3]   # This list of first three authors in test data\n",
    "for i in find_recom:\n",
    "    print(\"Here is the recommendation for the author: \\n\", i)\n",
    "    print(pop_recommend(i))    \n",
    "    print(\"\\n\") "
   ]
  },
  {
   "cell_type": "markdown",
   "metadata": {},
   "source": [
    "**Popularity-based recommender system based on weighted score**"
   ]
  },
  {
   "cell_type": "code",
   "execution_count": 58,
   "metadata": {},
   "outputs": [
    {
     "data": {
      "text/html": [
       "<div>\n",
       "<style scoped>\n",
       "    .dataframe tbody tr th:only-of-type {\n",
       "        vertical-align: middle;\n",
       "    }\n",
       "\n",
       "    .dataframe tbody tr th {\n",
       "        vertical-align: top;\n",
       "    }\n",
       "\n",
       "    .dataframe thead th {\n",
       "        text-align: right;\n",
       "    }\n",
       "</style>\n",
       "<table border=\"1\" class=\"dataframe\">\n",
       "  <thead>\n",
       "    <tr style=\"text-align: right;\">\n",
       "      <th></th>\n",
       "      <th>author</th>\n",
       "      <th>product</th>\n",
       "      <th>score</th>\n",
       "    </tr>\n",
       "  </thead>\n",
       "  <tbody>\n",
       "    <tr>\n",
       "      <th>1266001</th>\n",
       "      <td>Thomas</td>\n",
       "      <td>Emporia Elegance Handy (4,6 cm (1,8 Zoll), OLE...</td>\n",
       "      <td>10.00</td>\n",
       "    </tr>\n",
       "    <tr>\n",
       "      <th>501669</th>\n",
       "      <td>fabio</td>\n",
       "      <td>HOMTOM HT7 3G WCDMA 5.5 \"IPS smartphone Androi...</td>\n",
       "      <td>8.00</td>\n",
       "    </tr>\n",
       "    <tr>\n",
       "      <th>444141</th>\n",
       "      <td>rpv</td>\n",
       "      <td>Google LG Nexus 5 D820 GSM Unlocked Smartphone...</td>\n",
       "      <td>8.00</td>\n",
       "    </tr>\n",
       "    <tr>\n",
       "      <th>699633</th>\n",
       "      <td>antonio</td>\n",
       "      <td>Samsung I9505 Galaxy S4 Smartphone, 16 GB [Ita...</td>\n",
       "      <td>10.00</td>\n",
       "    </tr>\n",
       "    <tr>\n",
       "      <th>496566</th>\n",
       "      <td>mario</td>\n",
       "      <td>Wiko Rainbow Smartphone (12,7 cm (5 Zoll) Disp...</td>\n",
       "      <td>10.00</td>\n",
       "    </tr>\n",
       "  </tbody>\n",
       "</table>\n",
       "</div>"
      ],
      "text/plain": [
       "          author                                            product  score\n",
       "1266001   Thomas  Emporia Elegance Handy (4,6 cm (1,8 Zoll), OLE...  10.00\n",
       "501669     fabio  HOMTOM HT7 3G WCDMA 5.5 \"IPS smartphone Androi...   8.00\n",
       "444141       rpv  Google LG Nexus 5 D820 GSM Unlocked Smartphone...   8.00\n",
       "699633   antonio  Samsung I9505 Galaxy S4 Smartphone, 16 GB [Ita...  10.00\n",
       "496566     mario  Wiko Rainbow Smartphone (12,7 cm (5 Zoll) Disp...  10.00"
      ]
     },
     "execution_count": 58,
     "metadata": {},
     "output_type": "execute_result"
    }
   ],
   "source": [
    "rating_subset.head()"
   ]
  },
  {
   "cell_type": "code",
   "execution_count": 59,
   "metadata": {},
   "outputs": [],
   "source": [
    "train_data_2, test_data_2 = tts(rating_subset, test_size = 0.20, random_state=42)"
   ]
  },
  {
   "cell_type": "code",
   "execution_count": 60,
   "metadata": {},
   "outputs": [
    {
     "data": {
      "text/html": [
       "<div>\n",
       "<style scoped>\n",
       "    .dataframe tbody tr th:only-of-type {\n",
       "        vertical-align: middle;\n",
       "    }\n",
       "\n",
       "    .dataframe tbody tr th {\n",
       "        vertical-align: top;\n",
       "    }\n",
       "\n",
       "    .dataframe thead th {\n",
       "        text-align: right;\n",
       "    }\n",
       "</style>\n",
       "<table border=\"1\" class=\"dataframe\">\n",
       "  <thead>\n",
       "    <tr style=\"text-align: right;\">\n",
       "      <th></th>\n",
       "      <th>product</th>\n",
       "      <th>score</th>\n",
       "      <th>sum_score</th>\n",
       "      <th>rating_counts</th>\n",
       "    </tr>\n",
       "  </thead>\n",
       "  <tbody>\n",
       "    <tr>\n",
       "      <th>3407</th>\n",
       "      <td>Siemens MC60</td>\n",
       "      <td>10.00</td>\n",
       "      <td>10.00</td>\n",
       "      <td>1</td>\n",
       "    </tr>\n",
       "    <tr>\n",
       "      <th>1155</th>\n",
       "      <td>LG Electronics L7 II Sim Free Smartphone</td>\n",
       "      <td>10.00</td>\n",
       "      <td>10.00</td>\n",
       "      <td>1</td>\n",
       "    </tr>\n",
       "    <tr>\n",
       "      <th>2342</th>\n",
       "      <td>Nokia Microsoft Lumia 535 Smartphone dÃ©bloquÃ...</td>\n",
       "      <td>10.00</td>\n",
       "      <td>10.00</td>\n",
       "      <td>1</td>\n",
       "    </tr>\n",
       "    <tr>\n",
       "      <th>1182</th>\n",
       "      <td>LG G Vista (Verizon Prepaid)</td>\n",
       "      <td>10.00</td>\n",
       "      <td>20.00</td>\n",
       "      <td>2</td>\n",
       "    </tr>\n",
       "    <tr>\n",
       "      <th>461</th>\n",
       "      <td>BlackBerry Pearl Flip 8220</td>\n",
       "      <td>10.00</td>\n",
       "      <td>10.00</td>\n",
       "      <td>1</td>\n",
       "    </tr>\n",
       "  </tbody>\n",
       "</table>\n",
       "</div>"
      ],
      "text/plain": [
       "                                                product  score  sum_score  \\\n",
       "3407                                       Siemens MC60  10.00      10.00   \n",
       "1155           LG Electronics L7 II Sim Free Smartphone  10.00      10.00   \n",
       "2342  Nokia Microsoft Lumia 535 Smartphone dÃ©bloquÃ...  10.00      10.00   \n",
       "1182                       LG G Vista (Verizon Prepaid)  10.00      20.00   \n",
       "461                          BlackBerry Pearl Flip 8220  10.00      10.00   \n",
       "\n",
       "      rating_counts  \n",
       "3407              1  \n",
       "1155              1  \n",
       "2342              1  \n",
       "1182              2  \n",
       "461               1  "
      ]
     },
     "execution_count": 60,
     "metadata": {},
     "output_type": "execute_result"
    }
   ],
   "source": [
    "ratings_mean_count_2 = pd.DataFrame(train_data_2.groupby(\"product\")[\"score\"].mean()) \n",
    "ratings_mean_count_2['sum_score'] = pd.DataFrame(train_data_2.groupby(\"product\")[\"score\"].sum())\n",
    "ratings_mean_count_2['rating_counts'] = pd.DataFrame(train_data_2.groupby(\"product\")[\"score\"].count())  \n",
    "pop_table_2 = ratings_mean_count_2.reset_index()\n",
    "pop_table_2.sort_values(by=\"score\", ascending=False).head()"
   ]
  },
  {
   "cell_type": "code",
   "execution_count": 61,
   "metadata": {},
   "outputs": [
    {
     "name": "stdout",
     "output_type": "stream",
     "text": [
      "8.148647757255937\n"
     ]
    }
   ],
   "source": [
    "# calculate mean of score average\n",
    "C = (pop_table_2[\"sum_score\"].sum())/(pop_table_2[\"rating_counts\"].sum())\n",
    "print(C)"
   ]
  },
  {
   "cell_type": "code",
   "execution_count": 62,
   "metadata": {},
   "outputs": [],
   "source": [
    "# minimum number of ratings required to be in the chart, m=50\n",
    "m = 50"
   ]
  },
  {
   "cell_type": "code",
   "execution_count": 63,
   "metadata": {},
   "outputs": [],
   "source": [
    "# Function that computes the weighted rating of each movie\n",
    "def weighted_rating(x, m=m, C=C):\n",
    "    v = x[\"rating_counts\"]\n",
    "    R = x[\"score\"]\n",
    "    # Calculation based on the IMDB formula\n",
    "    return (v/(v+m) * R) + (m/(m+v) * C)"
   ]
  },
  {
   "cell_type": "code",
   "execution_count": 64,
   "metadata": {},
   "outputs": [],
   "source": [
    "# Define a new feature 'score' and calculate its value with weighted_rating()\n",
    "pop_table_2[\"wt. score\"] = pop_table_2.apply(weighted_rating, axis=1)"
   ]
  },
  {
   "cell_type": "code",
   "execution_count": 65,
   "metadata": {},
   "outputs": [
    {
     "data": {
      "text/html": [
       "<div>\n",
       "<style scoped>\n",
       "    .dataframe tbody tr th:only-of-type {\n",
       "        vertical-align: middle;\n",
       "    }\n",
       "\n",
       "    .dataframe tbody tr th {\n",
       "        vertical-align: top;\n",
       "    }\n",
       "\n",
       "    .dataframe thead th {\n",
       "        text-align: right;\n",
       "    }\n",
       "</style>\n",
       "<table border=\"1\" class=\"dataframe\">\n",
       "  <thead>\n",
       "    <tr style=\"text-align: right;\">\n",
       "      <th></th>\n",
       "      <th>product</th>\n",
       "      <th>rating_counts</th>\n",
       "      <th>score</th>\n",
       "      <th>wt. score</th>\n",
       "    </tr>\n",
       "  </thead>\n",
       "  <tbody>\n",
       "    <tr>\n",
       "      <th>1491</th>\n",
       "      <td>Lenovo Motorola Moto G Smartphone, 4,5 pollici...</td>\n",
       "      <td>85</td>\n",
       "      <td>9.62</td>\n",
       "      <td>9.08</td>\n",
       "    </tr>\n",
       "    <tr>\n",
       "      <th>1492</th>\n",
       "      <td>Lenovo Motorola Moto G Smartphone, Display HD ...</td>\n",
       "      <td>64</td>\n",
       "      <td>9.53</td>\n",
       "      <td>8.92</td>\n",
       "    </tr>\n",
       "    <tr>\n",
       "      <th>1487</th>\n",
       "      <td>Lenovo Motorola Moto G LTE Smartphone, Display...</td>\n",
       "      <td>58</td>\n",
       "      <td>9.45</td>\n",
       "      <td>8.85</td>\n",
       "    </tr>\n",
       "    <tr>\n",
       "      <th>2643</th>\n",
       "      <td>Samsung Galaxy A5</td>\n",
       "      <td>30</td>\n",
       "      <td>9.93</td>\n",
       "      <td>8.82</td>\n",
       "    </tr>\n",
       "    <tr>\n",
       "      <th>1028</th>\n",
       "      <td>Huawei P9 Lite Smartphone, LTE, Display 5.2'' ...</td>\n",
       "      <td>98</td>\n",
       "      <td>9.14</td>\n",
       "      <td>8.81</td>\n",
       "    </tr>\n",
       "    <tr>\n",
       "      <th>7</th>\n",
       "      <td>APPLE iPhone 6s Plus - 128 GB, Rose Gold</td>\n",
       "      <td>43</td>\n",
       "      <td>9.56</td>\n",
       "      <td>8.80</td>\n",
       "    </tr>\n",
       "    <tr>\n",
       "      <th>2218</th>\n",
       "      <td>Nokia E51 Cep Telefonu</td>\n",
       "      <td>27</td>\n",
       "      <td>10.00</td>\n",
       "      <td>8.80</td>\n",
       "    </tr>\n",
       "    <tr>\n",
       "      <th>1421</th>\n",
       "      <td>LG X power (Ð±ÐµÐ»ÑÐ¹)</td>\n",
       "      <td>28</td>\n",
       "      <td>9.93</td>\n",
       "      <td>8.79</td>\n",
       "    </tr>\n",
       "    <tr>\n",
       "      <th>3101</th>\n",
       "      <td>Samsung Galaxy S7</td>\n",
       "      <td>27</td>\n",
       "      <td>9.93</td>\n",
       "      <td>8.77</td>\n",
       "    </tr>\n",
       "    <tr>\n",
       "      <th>2645</th>\n",
       "      <td>Samsung Galaxy A5 (2016)</td>\n",
       "      <td>35</td>\n",
       "      <td>9.66</td>\n",
       "      <td>8.77</td>\n",
       "    </tr>\n",
       "  </tbody>\n",
       "</table>\n",
       "</div>"
      ],
      "text/plain": [
       "                                                product  rating_counts  score  \\\n",
       "1491  Lenovo Motorola Moto G Smartphone, 4,5 pollici...             85   9.62   \n",
       "1492  Lenovo Motorola Moto G Smartphone, Display HD ...             64   9.53   \n",
       "1487  Lenovo Motorola Moto G LTE Smartphone, Display...             58   9.45   \n",
       "2643                                  Samsung Galaxy A5             30   9.93   \n",
       "1028  Huawei P9 Lite Smartphone, LTE, Display 5.2'' ...             98   9.14   \n",
       "7              APPLE iPhone 6s Plus - 128 GB, Rose Gold             43   9.56   \n",
       "2218                             Nokia E51 Cep Telefonu             27  10.00   \n",
       "1421                            LG X power (Ð±ÐµÐ»ÑÐ¹)             28   9.93   \n",
       "3101                                  Samsung Galaxy S7             27   9.93   \n",
       "2645                           Samsung Galaxy A5 (2016)             35   9.66   \n",
       "\n",
       "      wt. score  \n",
       "1491       9.08  \n",
       "1492       8.92  \n",
       "1487       8.85  \n",
       "2643       8.82  \n",
       "1028       8.81  \n",
       "7          8.80  \n",
       "2218       8.80  \n",
       "1421       8.79  \n",
       "3101       8.77  \n",
       "2645       8.77  "
      ]
     },
     "execution_count": 65,
     "metadata": {},
     "output_type": "execute_result"
    }
   ],
   "source": [
    "#Sort movies based on score calculated above\n",
    "pop_table_2 = pop_table_2.sort_values(\"wt. score\", ascending=False)\n",
    "\n",
    "#Print the top 10 movies\n",
    "pop_table_2[[\"product\", \"rating_counts\", \"score\", \"wt. score\"]].head(10)"
   ]
  },
  {
   "cell_type": "code",
   "execution_count": 66,
   "metadata": {},
   "outputs": [],
   "source": [
    "pop_table_2[\"Rank\"] = pop_table_2[\"wt. score\"].rank(ascending=0, method='first')"
   ]
  },
  {
   "cell_type": "code",
   "execution_count": 67,
   "metadata": {},
   "outputs": [
    {
     "data": {
      "text/html": [
       "<div>\n",
       "<style scoped>\n",
       "    .dataframe tbody tr th:only-of-type {\n",
       "        vertical-align: middle;\n",
       "    }\n",
       "\n",
       "    .dataframe tbody tr th {\n",
       "        vertical-align: top;\n",
       "    }\n",
       "\n",
       "    .dataframe thead th {\n",
       "        text-align: right;\n",
       "    }\n",
       "</style>\n",
       "<table border=\"1\" class=\"dataframe\">\n",
       "  <thead>\n",
       "    <tr style=\"text-align: right;\">\n",
       "      <th></th>\n",
       "      <th>product</th>\n",
       "      <th>wt. score</th>\n",
       "    </tr>\n",
       "  </thead>\n",
       "  <tbody>\n",
       "    <tr>\n",
       "      <th>1491</th>\n",
       "      <td>Lenovo Motorola Moto G Smartphone, 4,5 pollici...</td>\n",
       "      <td>9.08</td>\n",
       "    </tr>\n",
       "    <tr>\n",
       "      <th>1492</th>\n",
       "      <td>Lenovo Motorola Moto G Smartphone, Display HD ...</td>\n",
       "      <td>8.92</td>\n",
       "    </tr>\n",
       "    <tr>\n",
       "      <th>1487</th>\n",
       "      <td>Lenovo Motorola Moto G LTE Smartphone, Display...</td>\n",
       "      <td>8.85</td>\n",
       "    </tr>\n",
       "    <tr>\n",
       "      <th>2643</th>\n",
       "      <td>Samsung Galaxy A5</td>\n",
       "      <td>8.82</td>\n",
       "    </tr>\n",
       "    <tr>\n",
       "      <th>1028</th>\n",
       "      <td>Huawei P9 Lite Smartphone, LTE, Display 5.2'' ...</td>\n",
       "      <td>8.81</td>\n",
       "    </tr>\n",
       "  </tbody>\n",
       "</table>\n",
       "</div>"
      ],
      "text/plain": [
       "                                                product  wt. score\n",
       "1491  Lenovo Motorola Moto G Smartphone, 4,5 pollici...       9.08\n",
       "1492  Lenovo Motorola Moto G Smartphone, Display HD ...       8.92\n",
       "1487  Lenovo Motorola Moto G LTE Smartphone, Display...       8.85\n",
       "2643                                  Samsung Galaxy A5       8.82\n",
       "1028  Huawei P9 Lite Smartphone, LTE, Display 5.2'' ...       8.81"
      ]
     },
     "execution_count": 67,
     "metadata": {},
     "output_type": "execute_result"
    }
   ],
   "source": [
    "#Get the top 5 recommendations \n",
    "popularity_rs_2 = pop_table_2[[\"product\", \"wt. score\"]].head(5) \n",
    "popularity_rs_2"
   ]
  },
  {
   "cell_type": "code",
   "execution_count": 68,
   "metadata": {},
   "outputs": [],
   "source": [
    "# Use popularity based recommender model to make predictions\n",
    "def wt_pop_recommend(author):     \n",
    "    user_recommendations = popularity_rs_2 \n",
    "          \n",
    "    #Add user_id column for which the recommendations are being generated \n",
    "    user_recommendations[\"author\"] = \"author\" \n",
    "      \n",
    "    #Bring user_id column to the front \n",
    "    cols = user_recommendations.columns.tolist() \n",
    "    cols = cols[-1:] + cols[:-1] \n",
    "    user_recommendations = user_recommendations[cols] \n",
    "          \n",
    "    return user_recommendations "
   ]
  },
  {
   "cell_type": "code",
   "execution_count": 69,
   "metadata": {},
   "outputs": [],
   "source": [
    "test_auth_2 = test_data_2[\"author\"].tolist()"
   ]
  },
  {
   "cell_type": "code",
   "execution_count": 70,
   "metadata": {},
   "outputs": [
    {
     "name": "stdout",
     "output_type": "stream",
     "text": [
      "Here is the recommendation for the author: \n",
      " Manuela\n",
      "      author                                            product  wt. score\n",
      "1491  author  Lenovo Motorola Moto G Smartphone, 4,5 pollici...       9.08\n",
      "1492  author  Lenovo Motorola Moto G Smartphone, Display HD ...       8.92\n",
      "1487  author  Lenovo Motorola Moto G LTE Smartphone, Display...       8.85\n",
      "2643  author                                  Samsung Galaxy A5       8.82\n",
      "1028  author  Huawei P9 Lite Smartphone, LTE, Display 5.2'' ...       8.81\n",
      "\n",
      "\n",
      "Here is the recommendation for the author: \n",
      " Jorge\n",
      "      author                                            product  wt. score\n",
      "1491  author  Lenovo Motorola Moto G Smartphone, 4,5 pollici...       9.08\n",
      "1492  author  Lenovo Motorola Moto G Smartphone, Display HD ...       8.92\n",
      "1487  author  Lenovo Motorola Moto G LTE Smartphone, Display...       8.85\n",
      "2643  author                                  Samsung Galaxy A5       8.82\n",
      "1028  author  Huawei P9 Lite Smartphone, LTE, Display 5.2'' ...       8.81\n",
      "\n",
      "\n",
      "Here is the recommendation for the author: \n",
      " Irene\n",
      "      author                                            product  wt. score\n",
      "1491  author  Lenovo Motorola Moto G Smartphone, 4,5 pollici...       9.08\n",
      "1492  author  Lenovo Motorola Moto G Smartphone, Display HD ...       8.92\n",
      "1487  author  Lenovo Motorola Moto G LTE Smartphone, Display...       8.85\n",
      "2643  author                                  Samsung Galaxy A5       8.82\n",
      "1028  author  Huawei P9 Lite Smartphone, LTE, Display 5.2'' ...       8.81\n",
      "\n",
      "\n"
     ]
    }
   ],
   "source": [
    "find_recom = test_auth_2[0:3]   # This list of first three authors in test data\n",
    "for i in find_recom:\n",
    "    print(\"Here is the recommendation for the author: \\n\", i)\n",
    "    print(wt_pop_recommend(i))    \n",
    "    print(\"\\n\") "
   ]
  },
  {
   "cell_type": "markdown",
   "metadata": {},
   "source": [
    "## 4. Build a collaborative filtering model using SVD. You can use SVD from surprise or build it from scratch\n",
    "\n",
    "(Note: Incase you’re building it from scratch you can limit your data points to 5000 samples if you face memory issues). \n",
    "Build a collaborative filtering model using kNNWithMeans from surprise. You can try both user-based and item-based model."
   ]
  },
  {
   "cell_type": "code",
   "execution_count": 71,
   "metadata": {},
   "outputs": [],
   "source": [
    "sample_df_2 = analytical_df.sample(n = 50000, random_state=612)  # I have used 50,000 samples instead of 5,000\n",
    "data_2 = sample_df_2[features_to_keep]"
   ]
  },
  {
   "cell_type": "markdown",
   "metadata": {},
   "source": [
    "To improve the predictions I will use here some text processing, which will fix the unicode errors, transliterate values to nearest ASCII, lowercase chracters."
   ]
  },
  {
   "cell_type": "code",
   "execution_count": 72,
   "metadata": {},
   "outputs": [],
   "source": [
    "data_2[\"product\"] = data_2[\"product\"].apply(lambda x: clean(str(x),\n",
    "    fix_unicode=True,               # fix various unicode errors\n",
    "    to_ascii=True,                  # transliterate to closest ASCII representation\n",
    "    lower=True,                     # lowercase text\n",
    "    no_line_breaks=True,            # fully strip line breaks as opposed to only normalizing them\n",
    "    no_urls=True,                   # replace all URLs with a special token\n",
    "    no_emails=True,                 # replace all email addresses with a special token\n",
    "    no_phone_numbers=False,         # replace all phone numbers with a special token\n",
    "    no_numbers=False,               # replace all numbers with a special token\n",
    "    no_digits=False,                # replace all digits with a special token\n",
    "    lang=\"en\"                       \n",
    ")) "
   ]
  },
  {
   "cell_type": "code",
   "execution_count": 73,
   "metadata": {},
   "outputs": [],
   "source": [
    "data_2[\"author\"]= data_2[\"author\"].astype(str) # converting each author value to string format\n",
    "data_2['author'] = data_2['author'].map(lambda x: x.lower()) # converting to lowercase "
   ]
  },
  {
   "cell_type": "code",
   "execution_count": 74,
   "metadata": {},
   "outputs": [],
   "source": [
    "counts1 = pd.value_counts(data_2[\"author\"])"
   ]
  },
  {
   "cell_type": "code",
   "execution_count": 75,
   "metadata": {},
   "outputs": [],
   "source": [
    "data_2 = data_2[data_2[\"author\"].isin(counts1[counts1 > 5].index)] # selecting data for users who have rated at least 5 products"
   ]
  },
  {
   "cell_type": "code",
   "execution_count": 76,
   "metadata": {},
   "outputs": [
    {
     "data": {
      "text/plain": [
       "(4231, 3)"
      ]
     },
     "execution_count": 76,
     "metadata": {},
     "output_type": "execute_result"
    }
   ],
   "source": [
    "data_2.shape"
   ]
  },
  {
   "cell_type": "code",
   "execution_count": 77,
   "metadata": {},
   "outputs": [],
   "source": [
    "reader = Reader(rating_scale=(1, 10)) # creating a reader object with given range of scores between 0 to 10 as found earlier\n",
    "data_surprise = Dataset.load_from_df(data_2[[\"author\", \"product\", \"score\"]], reader)"
   ]
  },
  {
   "cell_type": "code",
   "execution_count": 78,
   "metadata": {},
   "outputs": [],
   "source": [
    "trainset, testset = train_test_split(data_surprise, test_size=.25,random_state=123)"
   ]
  },
  {
   "cell_type": "code",
   "execution_count": 79,
   "metadata": {},
   "outputs": [
    {
     "data": {
      "text/plain": [
       "<generator object Trainset.all_ratings at 0x7fe828d18190>"
      ]
     },
     "execution_count": 79,
     "metadata": {},
     "output_type": "execute_result"
    }
   ],
   "source": [
    "trainset.all_ratings()"
   ]
  },
  {
   "cell_type": "code",
   "execution_count": 80,
   "metadata": {},
   "outputs": [
    {
     "name": "stdout",
     "output_type": "stream",
     "text": [
      "cliente amazon\n"
     ]
    }
   ],
   "source": [
    "print(trainset.to_raw_uid(0))"
   ]
  },
  {
   "cell_type": "code",
   "execution_count": 81,
   "metadata": {},
   "outputs": [
    {
     "name": "stdout",
     "output_type": "stream",
     "text": [
      "Number of users:  344 \n",
      "\n",
      "Number of items:  2665 \n",
      "\n"
     ]
    }
   ],
   "source": [
    "print('Number of users: ', trainset.n_users, '\\n')\n",
    "print('Number of items: ', trainset.n_items, '\\n')"
   ]
  },
  {
   "cell_type": "markdown",
   "metadata": {},
   "source": [
    "During train-test split surprise creates a Trainset or Testset object, that takes the raw ids, and converts them to inner_ids, which are a series of integers, starting from 0. To convert to raw ids we can use to_raw_iid and thereby map each inner id against corresponding raw id."
   ]
  },
  {
   "cell_type": "code",
   "execution_count": 82,
   "metadata": {},
   "outputs": [],
   "source": [
    "trainset_iids = list(trainset.all_items())\n",
    "iid_converter = lambda x: trainset.to_raw_iid(x)\n",
    "trainset_raw_iids = list(map(iid_converter, trainset_iids))"
   ]
  },
  {
   "cell_type": "markdown",
   "metadata": {},
   "source": [
    "**The difference between user based and item based collaborative filtering is that, in item-based filtering, the similarity between the co-rated items are directly calculated skipping K-neighborhood search.**"
   ]
  },
  {
   "cell_type": "markdown",
   "metadata": {},
   "source": [
    "**SVD based recommender system**"
   ]
  },
  {
   "cell_type": "code",
   "execution_count": 83,
   "metadata": {},
   "outputs": [
    {
     "data": {
      "text/plain": [
       "<surprise.prediction_algorithms.matrix_factorization.SVD at 0x7fe827456f10>"
      ]
     },
     "execution_count": 83,
     "metadata": {},
     "output_type": "execute_result"
    }
   ],
   "source": [
    "svd_model = SVD(n_factors=5,biased=False)\n",
    "svd_model.fit(trainset)"
   ]
  },
  {
   "cell_type": "markdown",
   "metadata": {},
   "source": [
    "**KNNwithMeans**"
   ]
  },
  {
   "cell_type": "markdown",
   "metadata": {},
   "source": [
    "**a) Item-based**"
   ]
  },
  {
   "cell_type": "code",
   "execution_count": 84,
   "metadata": {},
   "outputs": [],
   "source": [
    "my_k = 20\n",
    "my_min_k = 5\n",
    "my_sim_option = {'name':'cosine', 'user_based':False}"
   ]
  },
  {
   "cell_type": "code",
   "execution_count": 85,
   "metadata": {},
   "outputs": [
    {
     "name": "stdout",
     "output_type": "stream",
     "text": [
      "Computing the msd similarity matrix...\n",
      "Done computing similarity matrix.\n"
     ]
    },
    {
     "data": {
      "text/plain": [
       "<surprise.prediction_algorithms.knns.KNNWithMeans at 0x7fe8274623a0>"
      ]
     },
     "execution_count": 85,
     "metadata": {},
     "output_type": "execute_result"
    }
   ],
   "source": [
    "knn_model = KNNWithMeans(k = my_k, min_k = my_min_k, sim_option = my_sim_option)\n",
    "knn_model.fit(trainset)"
   ]
  },
  {
   "cell_type": "markdown",
   "metadata": {},
   "source": [
    "**b) User-based**"
   ]
  },
  {
   "cell_type": "code",
   "execution_count": 86,
   "metadata": {},
   "outputs": [],
   "source": [
    "my_sim_option_2 = {'name':'pearson', 'user_based':True} # here I have also changed the similarity from cosine to pearson for demonstration"
   ]
  },
  {
   "cell_type": "code",
   "execution_count": 87,
   "metadata": {},
   "outputs": [
    {
     "name": "stdout",
     "output_type": "stream",
     "text": [
      "Computing the msd similarity matrix...\n",
      "Done computing similarity matrix.\n"
     ]
    },
    {
     "data": {
      "text/plain": [
       "<surprise.prediction_algorithms.knns.KNNWithMeans at 0x7fe827462340>"
      ]
     },
     "execution_count": 87,
     "metadata": {},
     "output_type": "execute_result"
    }
   ],
   "source": [
    "knn_model_2 = KNNWithMeans(k = my_k, min_k = my_min_k, sim_option = my_sim_option_2)\n",
    "knn_model_2.fit(trainset)"
   ]
  },
  {
   "cell_type": "markdown",
   "metadata": {},
   "source": [
    "## 5. Evaluate the collaborative model. Print RMSE value."
   ]
  },
  {
   "cell_type": "code",
   "execution_count": 88,
   "metadata": {},
   "outputs": [
    {
     "name": "stdout",
     "output_type": "stream",
     "text": [
      "Accuracy of SVD model\n",
      "RMSE: 4.6371\n"
     ]
    },
    {
     "data": {
      "text/plain": [
       "4.637132590753582"
      ]
     },
     "execution_count": 88,
     "metadata": {},
     "output_type": "execute_result"
    }
   ],
   "source": [
    "test_pred_svd = svd_model.test(testset)\n",
    "print(\"Accuracy of SVD model\")\n",
    "accuracy.rmse(test_pred_svd)"
   ]
  },
  {
   "cell_type": "code",
   "execution_count": 89,
   "metadata": {},
   "outputs": [
    {
     "name": "stdout",
     "output_type": "stream",
     "text": [
      "Accuracy of KNNwithMeans model (content)\n",
      "RMSE: 2.6296\n"
     ]
    },
    {
     "data": {
      "text/plain": [
       "2.6295696070781553"
      ]
     },
     "execution_count": 89,
     "metadata": {},
     "output_type": "execute_result"
    }
   ],
   "source": [
    "test_pred_knn = knn_model.test(testset)\n",
    "print(\"Accuracy of KNNwithMeans model (content)\")\n",
    "accuracy.rmse(test_pred_knn)"
   ]
  },
  {
   "cell_type": "code",
   "execution_count": 90,
   "metadata": {},
   "outputs": [
    {
     "name": "stdout",
     "output_type": "stream",
     "text": [
      "Accuracy of KNNwithMeans model (user)\n",
      "RMSE: 2.6296\n"
     ]
    },
    {
     "data": {
      "text/plain": [
       "2.6295696070781553"
      ]
     },
     "execution_count": 90,
     "metadata": {},
     "output_type": "execute_result"
    }
   ],
   "source": [
    "test_pred_knn_2 = knn_model_2.test(testset)\n",
    "print(\"Accuracy of KNNwithMeans model (user)\")\n",
    "accuracy.rmse(test_pred_knn_2)"
   ]
  },
  {
   "cell_type": "markdown",
   "metadata": {},
   "source": [
    "Inference: KNNwithMeans performed better"
   ]
  },
  {
   "cell_type": "markdown",
   "metadata": {},
   "source": [
    "## 6. Predict score (average rating) for test users. "
   ]
  },
  {
   "cell_type": "code",
   "execution_count": 91,
   "metadata": {},
   "outputs": [],
   "source": [
    "knn_pred = pd.DataFrame(test_pred_knn_2)"
   ]
  },
  {
   "cell_type": "code",
   "execution_count": 92,
   "metadata": {},
   "outputs": [],
   "source": [
    "knn_pred_item = pd.DataFrame(test_pred_knn)"
   ]
  },
  {
   "cell_type": "code",
   "execution_count": 93,
   "metadata": {},
   "outputs": [],
   "source": [
    "svd_pred = pd.DataFrame(test_pred_svd)"
   ]
  },
  {
   "cell_type": "code",
   "execution_count": 94,
   "metadata": {},
   "outputs": [
    {
     "data": {
      "text/html": [
       "<div>\n",
       "<style scoped>\n",
       "    .dataframe tbody tr th:only-of-type {\n",
       "        vertical-align: middle;\n",
       "    }\n",
       "\n",
       "    .dataframe tbody tr th {\n",
       "        vertical-align: top;\n",
       "    }\n",
       "\n",
       "    .dataframe thead th {\n",
       "        text-align: right;\n",
       "    }\n",
       "</style>\n",
       "<table border=\"1\" class=\"dataframe\">\n",
       "  <thead>\n",
       "    <tr style=\"text-align: right;\">\n",
       "      <th></th>\n",
       "      <th>uid</th>\n",
       "      <th>iid</th>\n",
       "      <th>r_ui</th>\n",
       "      <th>est</th>\n",
       "      <th>details</th>\n",
       "    </tr>\n",
       "  </thead>\n",
       "  <tbody>\n",
       "    <tr>\n",
       "      <th>0</th>\n",
       "      <td>ð¯ð½ð°</td>\n",
       "      <td>sony xperia z ()</td>\n",
       "      <td>10.00</td>\n",
       "      <td>9.25</td>\n",
       "      <td>{'actual_k': 0, 'was_impossible': False}</td>\n",
       "    </tr>\n",
       "    <tr>\n",
       "      <th>1</th>\n",
       "      <td>ðð½ñð¾ð½</td>\n",
       "      <td>samsung s8600 wave 3</td>\n",
       "      <td>7.00</td>\n",
       "      <td>8.09</td>\n",
       "      <td>{'was_impossible': True, 'reason': 'User and/o...</td>\n",
       "    </tr>\n",
       "    <tr>\n",
       "      <th>2</th>\n",
       "      <td>paul</td>\n",
       "      <td>samsung sgh-t659 cell phone t-mobile</td>\n",
       "      <td>8.00</td>\n",
       "      <td>8.09</td>\n",
       "      <td>{'was_impossible': True, 'reason': 'User and/o...</td>\n",
       "    </tr>\n",
       "    <tr>\n",
       "      <th>3</th>\n",
       "      <td>ed</td>\n",
       "      <td>lg d855 g3 smartphone, 16 gb, nero metallico [...</td>\n",
       "      <td>10.00</td>\n",
       "      <td>7.33</td>\n",
       "      <td>{'actual_k': 0, 'was_impossible': False}</td>\n",
       "    </tr>\n",
       "    <tr>\n",
       "      <th>4</th>\n",
       "      <td>domenico</td>\n",
       "      <td>nokia x2-02</td>\n",
       "      <td>10.00</td>\n",
       "      <td>8.09</td>\n",
       "      <td>{'was_impossible': True, 'reason': 'User and/o...</td>\n",
       "    </tr>\n",
       "  </tbody>\n",
       "</table>\n",
       "</div>"
      ],
      "text/plain": [
       "          uid                                                iid  r_ui  est  \\\n",
       "0      ð¯ð½ð°                                   sony xperia z () 10.00 9.25   \n",
       "1  ðð½ñð¾ð½                               samsung s8600 wave 3  7.00 8.09   \n",
       "2        paul               samsung sgh-t659 cell phone t-mobile  8.00 8.09   \n",
       "3          ed  lg d855 g3 smartphone, 16 gb, nero metallico [... 10.00 7.33   \n",
       "4    domenico                                        nokia x2-02 10.00 8.09   \n",
       "\n",
       "                                             details  \n",
       "0           {'actual_k': 0, 'was_impossible': False}  \n",
       "1  {'was_impossible': True, 'reason': 'User and/o...  \n",
       "2  {'was_impossible': True, 'reason': 'User and/o...  \n",
       "3           {'actual_k': 0, 'was_impossible': False}  \n",
       "4  {'was_impossible': True, 'reason': 'User and/o...  "
      ]
     },
     "execution_count": 94,
     "metadata": {},
     "output_type": "execute_result"
    }
   ],
   "source": [
    "knn_pred.head()"
   ]
  },
  {
   "cell_type": "markdown",
   "metadata": {},
   "source": [
    "## 7. Report your findings and inferences"
   ]
  },
  {
   "cell_type": "markdown",
   "metadata": {},
   "source": [
    "Popularity-based recommender system only provided non-customised results which are same for all users as the model does not take into account individual user preference. Collaborative filtering based model provided results which are tailored, meaning it is assumed that a given user would prefer mobiles which were purchased by people who had similar preferences. The KNNwithMeans model of collaborative filtering gave better results than the SVD model. KNN uses the distance while SVD uses matrix factorization. SVD was much faster but substantially worse in terms of errors in the given data based on RMSE values.\n",
    "\n",
    "User-Based Filtering is based on the similarities between users. If a user has not given score for a mobile, the system will base its recommendations on similarities between the user and other users. Instead, Item-based system based its recommendations on similarities between items. Both performed similarly here. \n",
    "\n",
    "The final recommendation through KNN showed that for many users recommendations was not possible as the matrix was sparse, and there may be gray ship problem."
   ]
  },
  {
   "cell_type": "markdown",
   "metadata": {},
   "source": [
    "## 8. Try and recommend top 5 products for test users."
   ]
  },
  {
   "cell_type": "code",
   "execution_count": 95,
   "metadata": {},
   "outputs": [
    {
     "data": {
      "text/plain": [
       "('ð¯ð½ð°', 'sony xperia z ()', 10.0)"
      ]
     },
     "execution_count": 95,
     "metadata": {},
     "output_type": "execute_result"
    }
   ],
   "source": [
    "testset[0]"
   ]
  },
  {
   "cell_type": "code",
   "execution_count": 96,
   "metadata": {},
   "outputs": [],
   "source": [
    "uid = testset[0][0]  # raw user id (as in the ratings file). They are **strings**!"
   ]
  },
  {
   "cell_type": "code",
   "execution_count": 97,
   "metadata": {},
   "outputs": [
    {
     "data": {
      "text/html": [
       "<div>\n",
       "<style scoped>\n",
       "    .dataframe tbody tr th:only-of-type {\n",
       "        vertical-align: middle;\n",
       "    }\n",
       "\n",
       "    .dataframe tbody tr th {\n",
       "        vertical-align: top;\n",
       "    }\n",
       "\n",
       "    .dataframe thead th {\n",
       "        text-align: right;\n",
       "    }\n",
       "</style>\n",
       "<table border=\"1\" class=\"dataframe\">\n",
       "  <thead>\n",
       "    <tr style=\"text-align: right;\">\n",
       "      <th></th>\n",
       "      <th>iid</th>\n",
       "      <th>r_ui</th>\n",
       "      <th>est</th>\n",
       "    </tr>\n",
       "  </thead>\n",
       "  <tbody>\n",
       "    <tr>\n",
       "      <th>0</th>\n",
       "      <td>sony xperia z ()</td>\n",
       "      <td>10.00</td>\n",
       "      <td>9.25</td>\n",
       "    </tr>\n",
       "    <tr>\n",
       "      <th>197</th>\n",
       "      <td>nokia 5230 xpressmusic</td>\n",
       "      <td>10.00</td>\n",
       "      <td>8.09</td>\n",
       "    </tr>\n",
       "  </tbody>\n",
       "</table>\n",
       "</div>"
      ],
      "text/plain": [
       "                        iid  r_ui  est\n",
       "0          sony xperia z () 10.00 9.25\n",
       "197  nokia 5230 xpressmusic 10.00 8.09"
      ]
     },
     "execution_count": 97,
     "metadata": {},
     "output_type": "execute_result"
    }
   ],
   "source": [
    "knn_pred[knn_pred['uid'] == uid][['iid', 'r_ui','est']].sort_values(by = 'r_ui',ascending = False).head(5)"
   ]
  },
  {
   "cell_type": "code",
   "execution_count": 98,
   "metadata": {},
   "outputs": [],
   "source": [
    "uid2 = testset[123][0]  # raw user id (as in the ratings file). They are **strings**!"
   ]
  },
  {
   "cell_type": "code",
   "execution_count": 99,
   "metadata": {},
   "outputs": [
    {
     "data": {
      "text/html": [
       "<div>\n",
       "<style scoped>\n",
       "    .dataframe tbody tr th:only-of-type {\n",
       "        vertical-align: middle;\n",
       "    }\n",
       "\n",
       "    .dataframe tbody tr th {\n",
       "        vertical-align: top;\n",
       "    }\n",
       "\n",
       "    .dataframe thead th {\n",
       "        text-align: right;\n",
       "    }\n",
       "</style>\n",
       "<table border=\"1\" class=\"dataframe\">\n",
       "  <thead>\n",
       "    <tr style=\"text-align: right;\">\n",
       "      <th></th>\n",
       "      <th>iid</th>\n",
       "      <th>r_ui</th>\n",
       "      <th>est</th>\n",
       "    </tr>\n",
       "  </thead>\n",
       "  <tbody>\n",
       "    <tr>\n",
       "      <th>7</th>\n",
       "      <td>blackberry z10 smartphone (4,2 zoll display, t...</td>\n",
       "      <td>10.00</td>\n",
       "      <td>8.09</td>\n",
       "    </tr>\n",
       "    <tr>\n",
       "      <th>123</th>\n",
       "      <td>samsung galaxy j5 smartphone, oro [italia]</td>\n",
       "      <td>10.00</td>\n",
       "      <td>8.09</td>\n",
       "    </tr>\n",
       "    <tr>\n",
       "      <th>251</th>\n",
       "      <td>microsoft nokia 7230 handy (3.2 mp, musikplaye...</td>\n",
       "      <td>8.00</td>\n",
       "      <td>8.09</td>\n",
       "    </tr>\n",
       "    <tr>\n",
       "      <th>809</th>\n",
       "      <td>smartphone lg l90 dual d410 preto com tela de ...</td>\n",
       "      <td>8.00</td>\n",
       "      <td>9.11</td>\n",
       "    </tr>\n",
       "    <tr>\n",
       "      <th>330</th>\n",
       "      <td>samsung galaxy s advance, display 4 pollici, w...</td>\n",
       "      <td>6.00</td>\n",
       "      <td>8.09</td>\n",
       "    </tr>\n",
       "  </tbody>\n",
       "</table>\n",
       "</div>"
      ],
      "text/plain": [
       "                                                   iid  r_ui  est\n",
       "7    blackberry z10 smartphone (4,2 zoll display, t... 10.00 8.09\n",
       "123         samsung galaxy j5 smartphone, oro [italia] 10.00 8.09\n",
       "251  microsoft nokia 7230 handy (3.2 mp, musikplaye...  8.00 8.09\n",
       "809  smartphone lg l90 dual d410 preto com tela de ...  8.00 9.11\n",
       "330  samsung galaxy s advance, display 4 pollici, w...  6.00 8.09"
      ]
     },
     "execution_count": 99,
     "metadata": {},
     "output_type": "execute_result"
    }
   ],
   "source": [
    "knn_pred[knn_pred['uid'] == uid2][['iid', 'r_ui','est']].sort_values(by = 'r_ui',ascending = False).head(5)"
   ]
  },
  {
   "cell_type": "markdown",
   "metadata": {},
   "source": [
    "## 9. Check for outliers and impute them as required"
   ]
  },
  {
   "cell_type": "code",
   "execution_count": 100,
   "metadata": {},
   "outputs": [
    {
     "data": {
      "text/plain": [
       "<AxesSubplot:xlabel='score'>"
      ]
     },
     "execution_count": 100,
     "metadata": {},
     "output_type": "execute_result"
    },
    {
     "data": {
      "image/png": "[encoded data removed]",
      "text/plain": [
       "<Figure size 432x288 with 1 Axes>"
      ]
     },
     "metadata": {
      "needs_background": "light"
     },
     "output_type": "display_data"
    }
   ],
   "source": [
    "sns.boxplot(x=data_2[\"score\"])"
   ]
  },
  {
   "cell_type": "code",
   "execution_count": 101,
   "metadata": {},
   "outputs": [
    {
     "name": "stdout",
     "output_type": "stream",
     "text": [
      "2.0\n"
     ]
    }
   ],
   "source": [
    "Q1 = data_2[\"score\"].quantile(0.25)\n",
    "Q3 = data_2[\"score\"].quantile(0.75)\n",
    "IQR = Q3 - Q1\n",
    "print(IQR)"
   ]
  },
  {
   "cell_type": "code",
   "execution_count": 102,
   "metadata": {},
   "outputs": [
    {
     "data": {
      "text/plain": [
       "(660, 3)"
      ]
     },
     "execution_count": 102,
     "metadata": {},
     "output_type": "execute_result"
    }
   ],
   "source": [
    "df_out = data_2[((data_2[\"score\"] < (Q1 - 1.5 * IQR)) |(data_2[\"score\"] > (Q3 + 1.5 * IQR)))]\n",
    "df_out.shape"
   ]
  },
  {
   "cell_type": "code",
   "execution_count": 103,
   "metadata": {},
   "outputs": [
    {
     "data": {
      "text/plain": [
       "(4231, 3)"
      ]
     },
     "execution_count": 103,
     "metadata": {},
     "output_type": "execute_result"
    }
   ],
   "source": [
    "data_2.shape"
   ]
  },
  {
   "cell_type": "code",
   "execution_count": 104,
   "metadata": {},
   "outputs": [],
   "source": [
    "row_to_impute = list(data_2[((data_2[\"score\"] < (Q1 - 1.5 * IQR)) |(data_2[\"score\"] > (Q3 + 1.5 * IQR)))].index.values)"
   ]
  },
  {
   "cell_type": "code",
   "execution_count": 105,
   "metadata": {},
   "outputs": [],
   "source": [
    "impute_value = np.median(data_2[\"score\"])"
   ]
  },
  {
   "cell_type": "code",
   "execution_count": 106,
   "metadata": {},
   "outputs": [],
   "source": [
    "for i in row_to_impute:\n",
    "    data_2.at[i, \"score\"] = impute_value"
   ]
  },
  {
   "cell_type": "code",
   "execution_count": 107,
   "metadata": {},
   "outputs": [],
   "source": [
    "data_surprise = Dataset.load_from_df(data_2[[\"author\", \"product\", \"score\"]], reader)"
   ]
  },
  {
   "cell_type": "code",
   "execution_count": 108,
   "metadata": {},
   "outputs": [],
   "source": [
    "trainset, testset = train_test_split(data_surprise, test_size=0.3)"
   ]
  },
  {
   "cell_type": "code",
   "execution_count": 109,
   "metadata": {},
   "outputs": [
    {
     "name": "stdout",
     "output_type": "stream",
     "text": [
      "Number of users:  344 \n",
      "\n",
      "Number of items:  2492 \n",
      "\n"
     ]
    }
   ],
   "source": [
    "print('Number of users: ', trainset.n_users, '\\n')\n",
    "print('Number of items: ', trainset.n_items, '\\n')"
   ]
  },
  {
   "cell_type": "code",
   "execution_count": 110,
   "metadata": {},
   "outputs": [],
   "source": [
    "trainset_iids = list(trainset.all_items())\n",
    "iid_converter = lambda x: trainset.to_raw_iid(x)\n",
    "trainset_raw_iids = list(map(iid_converter, trainset_iids))"
   ]
  },
  {
   "cell_type": "code",
   "execution_count": 111,
   "metadata": {},
   "outputs": [],
   "source": [
    "my_k = 20\n",
    "my_min_k = 5\n",
    "my_sim_option = {'name':'cosine', 'user_based':False}"
   ]
  },
  {
   "cell_type": "code",
   "execution_count": 112,
   "metadata": {},
   "outputs": [
    {
     "name": "stdout",
     "output_type": "stream",
     "text": [
      "Computing the msd similarity matrix...\n",
      "Done computing similarity matrix.\n"
     ]
    },
    {
     "data": {
      "text/plain": [
       "<surprise.prediction_algorithms.knns.KNNWithMeans at 0x7fe8280aa910>"
      ]
     },
     "execution_count": 112,
     "metadata": {},
     "output_type": "execute_result"
    }
   ],
   "source": [
    "knn_model = KNNWithMeans(k = my_k, min_k = my_min_k, sim_option = my_sim_option)\n",
    "knn_model.fit(trainset)"
   ]
  },
  {
   "cell_type": "code",
   "execution_count": 113,
   "metadata": {},
   "outputs": [
    {
     "name": "stdout",
     "output_type": "stream",
     "text": [
      "Accuracy of KNNwithMeans model (content)\n",
      "RMSE: 1.2612\n"
     ]
    },
    {
     "data": {
      "text/plain": [
       "1.2612012241206916"
      ]
     },
     "execution_count": 113,
     "metadata": {},
     "output_type": "execute_result"
    }
   ],
   "source": [
    "test_pred_knn = knn_model.test(testset)\n",
    "print(\"Accuracy of KNNwithMeans model (content)\")\n",
    "accuracy.rmse(test_pred_knn)"
   ]
  },
  {
   "cell_type": "markdown",
   "metadata": {},
   "source": [
    "## 10. Try cross validation techniques to get better results"
   ]
  },
  {
   "cell_type": "code",
   "execution_count": 114,
   "metadata": {},
   "outputs": [
    {
     "name": "stdout",
     "output_type": "stream",
     "text": [
      "Computing the msd similarity matrix...\n",
      "Done computing similarity matrix.\n",
      "Computing the msd similarity matrix...\n",
      "Done computing similarity matrix.\n",
      "Computing the msd similarity matrix...\n",
      "Done computing similarity matrix.\n",
      "Computing the msd similarity matrix...\n",
      "Done computing similarity matrix.\n",
      "Computing the msd similarity matrix...\n",
      "Done computing similarity matrix.\n",
      "Computing the msd similarity matrix...\n",
      "Done computing similarity matrix.\n",
      "Computing the msd similarity matrix...\n",
      "Done computing similarity matrix.\n",
      "Computing the msd similarity matrix...\n",
      "Done computing similarity matrix.\n",
      "Computing the msd similarity matrix...\n",
      "Done computing similarity matrix.\n",
      "Computing the msd similarity matrix...\n",
      "Done computing similarity matrix.\n"
     ]
    }
   ],
   "source": [
    "results = cross_validate(\n",
    "    algo = knn_model, data = data_surprise, measures=['RMSE'], \n",
    "    cv=10, return_train_measures=True\n",
    "    )"
   ]
  },
  {
   "cell_type": "code",
   "execution_count": 115,
   "metadata": {},
   "outputs": [
    {
     "name": "stdout",
     "output_type": "stream",
     "text": [
      "RMSE: 1.1728\n"
     ]
    },
    {
     "data": {
      "text/plain": [
       "1.1727944717252388"
      ]
     },
     "execution_count": 115,
     "metadata": {},
     "output_type": "execute_result"
    }
   ],
   "source": [
    "test_pred_algo = knn_model.test(testset)\n",
    "accuracy.rmse(test_pred_algo)"
   ]
  },
  {
   "cell_type": "markdown",
   "metadata": {},
   "source": [
    "**hyperparameter tuning using GridSearchCV**"
   ]
  },
  {
   "cell_type": "code",
   "execution_count": 116,
   "metadata": {},
   "outputs": [
    {
     "name": "stdout",
     "output_type": "stream",
     "text": [
      "1.2443501574751556\n",
      "{'n_epochs': 10, 'lr_all': 0.002, 'reg_all': 0.4}\n"
     ]
    }
   ],
   "source": [
    "param_grid = {\n",
    "    \"n_epochs\": [5, 10],\n",
    "    \"lr_all\": [0.002, 0.005],\n",
    "    \"reg_all\": [0.4, 0.6]\n",
    "}\n",
    "gs = GridSearchCV(SVD, param_grid, measures=[\"rmse\", \"mae\"], cv=3)\n",
    "\n",
    "gs.fit(data_surprise)\n",
    "\n",
    "print(gs.best_score[\"rmse\"])\n",
    "print(gs.best_params[\"rmse\"])"
   ]
  },
  {
   "cell_type": "code",
   "execution_count": 117,
   "metadata": {},
   "outputs": [
    {
     "name": "stdout",
     "output_type": "stream",
     "text": [
      "Computing the msd similarity matrix...\n",
      "Done computing similarity matrix.\n",
      "Computing the msd similarity matrix...\n",
      "Done computing similarity matrix.\n",
      "Computing the msd similarity matrix...\n",
      "Done computing similarity matrix.\n",
      "Computing the msd similarity matrix...\n",
      "Done computing similarity matrix.\n",
      "Computing the msd similarity matrix...\n",
      "Done computing similarity matrix.\n",
      "Computing the msd similarity matrix...\n",
      "Done computing similarity matrix.\n",
      "Computing the msd similarity matrix...\n",
      "Done computing similarity matrix.\n",
      "Computing the msd similarity matrix...\n",
      "Done computing similarity matrix.\n",
      "Computing the msd similarity matrix...\n",
      "Done computing similarity matrix.\n",
      "Computing the msd similarity matrix...\n",
      "Done computing similarity matrix.\n",
      "Computing the msd similarity matrix...\n",
      "Done computing similarity matrix.\n",
      "Computing the msd similarity matrix...\n",
      "Done computing similarity matrix.\n",
      "Computing the msd similarity matrix...\n",
      "Done computing similarity matrix.\n",
      "Computing the msd similarity matrix...\n",
      "Done computing similarity matrix.\n",
      "Computing the msd similarity matrix...\n",
      "Done computing similarity matrix.\n",
      "Computing the msd similarity matrix...\n",
      "Done computing similarity matrix.\n",
      "Computing the msd similarity matrix...\n",
      "Done computing similarity matrix.\n",
      "Computing the msd similarity matrix...\n",
      "Done computing similarity matrix.\n",
      "Computing the cosine similarity matrix...\n",
      "Done computing similarity matrix.\n",
      "Computing the cosine similarity matrix...\n",
      "Done computing similarity matrix.\n",
      "Computing the cosine similarity matrix...\n",
      "Done computing similarity matrix.\n",
      "Computing the cosine similarity matrix...\n",
      "Done computing similarity matrix.\n",
      "Computing the cosine similarity matrix...\n",
      "Done computing similarity matrix.\n",
      "Computing the cosine similarity matrix...\n",
      "Done computing similarity matrix.\n",
      "Computing the cosine similarity matrix...\n",
      "Done computing similarity matrix.\n",
      "Computing the cosine similarity matrix...\n",
      "Done computing similarity matrix.\n",
      "Computing the cosine similarity matrix...\n",
      "Done computing similarity matrix.\n",
      "Computing the cosine similarity matrix...\n",
      "Done computing similarity matrix.\n",
      "Computing the cosine similarity matrix...\n",
      "Done computing similarity matrix.\n",
      "Computing the cosine similarity matrix...\n",
      "Done computing similarity matrix.\n",
      "Computing the cosine similarity matrix...\n",
      "Done computing similarity matrix.\n",
      "Computing the cosine similarity matrix...\n",
      "Done computing similarity matrix.\n",
      "Computing the cosine similarity matrix...\n",
      "Done computing similarity matrix.\n",
      "Computing the cosine similarity matrix...\n",
      "Done computing similarity matrix.\n",
      "Computing the cosine similarity matrix...\n",
      "Done computing similarity matrix.\n",
      "Computing the cosine similarity matrix...\n",
      "Done computing similarity matrix.\n",
      "Computing the pearson similarity matrix...\n",
      "Done computing similarity matrix.\n",
      "Computing the pearson similarity matrix...\n",
      "Done computing similarity matrix.\n",
      "Computing the pearson similarity matrix...\n",
      "Done computing similarity matrix.\n",
      "Computing the pearson similarity matrix...\n",
      "Done computing similarity matrix.\n",
      "Computing the pearson similarity matrix...\n",
      "Done computing similarity matrix.\n",
      "Computing the pearson similarity matrix...\n",
      "Done computing similarity matrix.\n",
      "Computing the pearson similarity matrix...\n",
      "Done computing similarity matrix.\n",
      "Computing the pearson similarity matrix...\n",
      "Done computing similarity matrix.\n",
      "Computing the pearson similarity matrix...\n",
      "Done computing similarity matrix.\n",
      "Computing the pearson similarity matrix...\n",
      "Done computing similarity matrix.\n",
      "Computing the pearson similarity matrix...\n",
      "Done computing similarity matrix.\n",
      "Computing the pearson similarity matrix...\n",
      "Done computing similarity matrix.\n",
      "Computing the pearson similarity matrix...\n",
      "Done computing similarity matrix.\n",
      "Computing the pearson similarity matrix...\n",
      "Done computing similarity matrix.\n",
      "Computing the pearson similarity matrix...\n",
      "Done computing similarity matrix.\n",
      "Computing the pearson similarity matrix...\n",
      "Done computing similarity matrix.\n",
      "Computing the pearson similarity matrix...\n",
      "Done computing similarity matrix.\n",
      "Computing the pearson similarity matrix...\n",
      "Done computing similarity matrix.\n",
      "1.268413867778893\n",
      "{'sim_options': {'name': 'msd', 'min_support': 3, 'user_based': True}}\n"
     ]
    }
   ],
   "source": [
    "sim_options = {\n",
    "    \"name\": [\"msd\", \"cosine\", \"pearson\"],\n",
    "    \"min_support\": [3, 4, 5],\n",
    "    \"user_based\": [False, True],\n",
    "}\n",
    "\n",
    "param_grid = {\"sim_options\": sim_options}\n",
    "\n",
    "gs2 = GridSearchCV(KNNWithMeans, param_grid, measures=[\"rmse\", \"mae\"], cv=3)\n",
    "gs2.fit(data_surprise)\n",
    "\n",
    "print(gs2.best_score[\"rmse\"])\n",
    "print(gs2.best_params[\"rmse\"])"
   ]
  },
  {
   "cell_type": "markdown",
   "metadata": {},
   "source": [
    "## 11. In what business scenario you should use popularity based Recommendation Systems ?"
   ]
  },
  {
   "cell_type": "markdown",
   "metadata": {},
   "source": [
    "Popularity based recommender system only provides the recommended mobiles based on general mobile popularity, not based on particular use test. It will be particularly useful at the beginning or start of the mobile business, when there is lack of historical user data. It thus overcomes the cold start problem. However as it provides same mobile recommendations to all users, the recommendations can often be wrong especially for users who have niche or specific interests. "
   ]
  },
  {
   "cell_type": "markdown",
   "metadata": {},
   "source": [
    "## 12. In what business scenario you should use CF based Recommendation Systems ?"
   ]
  },
  {
   "cell_type": "markdown",
   "metadata": {},
   "source": [
    "Collaborative filtering based recommendation systems look into the users data, the item used. Therefore, they checks the taste of similar users and provide tailored recommendations. However, if there are not enough users, i.e., the cold start problem, the model cannot find a match. Also if the user and rating matrix is sparse in spite of many users or items, a reliable model cannot be developed. One particular challenge is gray ship problem, in which one user may have an item profile based on which no mobile can be recommended to him or her, since others have not used the same. I would use it in established mobile businesses especially when the matrix is not sparse. "
   ]
  },
  {
   "cell_type": "markdown",
   "metadata": {},
   "source": [
    "## 13. What other possible methods can you think of which can further improve the recommendation for different users?"
   ]
  },
  {
   "cell_type": "markdown",
   "metadata": {},
   "source": [
    "**Methods to improve recommendations:**\n",
    "1. **Data preprocessing**\n",
    "* Text cleaning: fixing unicode errors, transliteration to nearest ASCII, lowercase text, no currency symbol, no punctuation, etc.\n",
    "* Variance check for matrix and treatment for skewness.\n",
    "* Use of fuzzymatching techniques for textual data.\n",
    "2. **Model**\n",
    "* Use of regularization to avoid overfitting\n",
    "* Use of bias terms to minimize the error between actual and predicted value\n",
    "* Increasing the neighbourhood, i.e., the model size\n",
    "* Switching from user based to item based model for sparse matrix\n",
    "* Use of weighting: for example, giving more weightage to recent ratings (time weighting)\n",
    "* Content based models can overcome the cold start and grey ship problems of collaborative filtering.\n",
    "3. **Hybridization**\n",
    "* weighted: recommedations from different systems are weighted to get final recommendation\n",
    "* switching: system switches between different models\n",
    "* mixed:recommendations from different systems are shown together\n",
    "* One common approach is to combine content based and CF models.\n"
   ]
  }
 ],
 "metadata": {
  "kernelspec": {
   "display_name": "Python 3",
   "language": "python",
   "name": "python3"
  },
  "language_info": {
   "codemirror_mode": {
    "name": "ipython",
    "version": 3
   },
   "file_extension": ".py",
   "mimetype": "text/x-python",
   "name": "python",
   "nbconvert_exporter": "python",
   "pygments_lexer": "ipython3",
   "version": "3.8.5"
  }
 },
 "nbformat": 4,
 "nbformat_minor": 5
}
